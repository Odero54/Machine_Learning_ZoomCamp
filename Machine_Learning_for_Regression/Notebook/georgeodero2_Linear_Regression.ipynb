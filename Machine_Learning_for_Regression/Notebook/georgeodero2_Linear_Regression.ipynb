{
 "cells": [
  {
   "cell_type": "markdown",
   "id": "748d7063-abfe-4344-afec-72efbd620e72",
   "metadata": {},
   "source": [
    "## Homework #2\n",
    "\n",
    "### Dataset\n",
    "In this homework, we will use the Laptops price dataset from <A Href=\"https://www.kaggle.com/datasets/juanmerinobermejo/laptops-price-dataset\">Kaggle.</A>\n",
    "\n",
    "Here's a wget-able <A Href=\"https://raw.githubusercontent.com/alexeygrigorev/datasets/master/laptops.csv\">link:</A>\n",
    "\n",
    "The goal of this homework is to create a regression model for predicting the prices (column '**Final Price**')"
   ]
  },
  {
   "cell_type": "markdown",
   "id": "1ce2f3b6-d87e-4660-9ea7-d15deff2ddd2",
   "metadata": {},
   "source": [
    "### Preparing the dataset\n",
    "\n",
    "First, we'll normalize the names of the columns:"
   ]
  },
  {
   "cell_type": "code",
   "execution_count": 1,
   "id": "d2d0ff45-39d1-4685-934c-6d44b1ea57c6",
   "metadata": {
    "scrolled": true
   },
   "outputs": [
    {
     "data": {
      "text/html": [
       "<div>\n",
       "<style scoped>\n",
       "    .dataframe tbody tr th:only-of-type {\n",
       "        vertical-align: middle;\n",
       "    }\n",
       "\n",
       "    .dataframe tbody tr th {\n",
       "        vertical-align: top;\n",
       "    }\n",
       "\n",
       "    .dataframe thead th {\n",
       "        text-align: right;\n",
       "    }\n",
       "</style>\n",
       "<table border=\"1\" class=\"dataframe\">\n",
       "  <thead>\n",
       "    <tr style=\"text-align: right;\">\n",
       "      <th></th>\n",
       "      <th>Laptop</th>\n",
       "      <th>Status</th>\n",
       "      <th>Brand</th>\n",
       "      <th>Model</th>\n",
       "      <th>CPU</th>\n",
       "      <th>RAM</th>\n",
       "      <th>Storage</th>\n",
       "      <th>Storage type</th>\n",
       "      <th>GPU</th>\n",
       "      <th>Screen</th>\n",
       "      <th>Touch</th>\n",
       "      <th>Final Price</th>\n",
       "    </tr>\n",
       "  </thead>\n",
       "  <tbody>\n",
       "    <tr>\n",
       "      <th>0</th>\n",
       "      <td>ASUS ExpertBook B1 B1502CBA-EJ0436X Intel Core...</td>\n",
       "      <td>New</td>\n",
       "      <td>Asus</td>\n",
       "      <td>ExpertBook</td>\n",
       "      <td>Intel Core i5</td>\n",
       "      <td>8</td>\n",
       "      <td>512</td>\n",
       "      <td>SSD</td>\n",
       "      <td>NaN</td>\n",
       "      <td>15.6</td>\n",
       "      <td>No</td>\n",
       "      <td>1009.00</td>\n",
       "    </tr>\n",
       "    <tr>\n",
       "      <th>1</th>\n",
       "      <td>Alurin Go Start Intel Celeron N4020/8GB/256GB ...</td>\n",
       "      <td>New</td>\n",
       "      <td>Alurin</td>\n",
       "      <td>Go</td>\n",
       "      <td>Intel Celeron</td>\n",
       "      <td>8</td>\n",
       "      <td>256</td>\n",
       "      <td>SSD</td>\n",
       "      <td>NaN</td>\n",
       "      <td>15.6</td>\n",
       "      <td>No</td>\n",
       "      <td>299.00</td>\n",
       "    </tr>\n",
       "    <tr>\n",
       "      <th>2</th>\n",
       "      <td>ASUS ExpertBook B1 B1502CBA-EJ0424X Intel Core...</td>\n",
       "      <td>New</td>\n",
       "      <td>Asus</td>\n",
       "      <td>ExpertBook</td>\n",
       "      <td>Intel Core i3</td>\n",
       "      <td>8</td>\n",
       "      <td>256</td>\n",
       "      <td>SSD</td>\n",
       "      <td>NaN</td>\n",
       "      <td>15.6</td>\n",
       "      <td>No</td>\n",
       "      <td>789.00</td>\n",
       "    </tr>\n",
       "    <tr>\n",
       "      <th>3</th>\n",
       "      <td>MSI Katana GF66 12UC-082XES Intel Core i7-1270...</td>\n",
       "      <td>New</td>\n",
       "      <td>MSI</td>\n",
       "      <td>Katana</td>\n",
       "      <td>Intel Core i7</td>\n",
       "      <td>16</td>\n",
       "      <td>1000</td>\n",
       "      <td>SSD</td>\n",
       "      <td>RTX 3050</td>\n",
       "      <td>15.6</td>\n",
       "      <td>No</td>\n",
       "      <td>1199.00</td>\n",
       "    </tr>\n",
       "    <tr>\n",
       "      <th>4</th>\n",
       "      <td>HP 15S-FQ5085NS Intel Core i5-1235U/16GB/512GB...</td>\n",
       "      <td>New</td>\n",
       "      <td>HP</td>\n",
       "      <td>15S</td>\n",
       "      <td>Intel Core i5</td>\n",
       "      <td>16</td>\n",
       "      <td>512</td>\n",
       "      <td>SSD</td>\n",
       "      <td>NaN</td>\n",
       "      <td>15.6</td>\n",
       "      <td>No</td>\n",
       "      <td>669.01</td>\n",
       "    </tr>\n",
       "  </tbody>\n",
       "</table>\n",
       "</div>"
      ],
      "text/plain": [
       "                                              Laptop Status   Brand  \\\n",
       "0  ASUS ExpertBook B1 B1502CBA-EJ0436X Intel Core...    New    Asus   \n",
       "1  Alurin Go Start Intel Celeron N4020/8GB/256GB ...    New  Alurin   \n",
       "2  ASUS ExpertBook B1 B1502CBA-EJ0424X Intel Core...    New    Asus   \n",
       "3  MSI Katana GF66 12UC-082XES Intel Core i7-1270...    New     MSI   \n",
       "4  HP 15S-FQ5085NS Intel Core i5-1235U/16GB/512GB...    New      HP   \n",
       "\n",
       "        Model            CPU  RAM  Storage Storage type       GPU  Screen  \\\n",
       "0  ExpertBook  Intel Core i5    8      512          SSD       NaN    15.6   \n",
       "1          Go  Intel Celeron    8      256          SSD       NaN    15.6   \n",
       "2  ExpertBook  Intel Core i3    8      256          SSD       NaN    15.6   \n",
       "3      Katana  Intel Core i7   16     1000          SSD  RTX 3050    15.6   \n",
       "4         15S  Intel Core i5   16      512          SSD       NaN    15.6   \n",
       "\n",
       "  Touch  Final Price  \n",
       "0    No      1009.00  \n",
       "1    No       299.00  \n",
       "2    No       789.00  \n",
       "3    No      1199.00  \n",
       "4    No       669.01  "
      ]
     },
     "execution_count": 1,
     "metadata": {},
     "output_type": "execute_result"
    }
   ],
   "source": [
    "# loading the packages to be used in this asssignment\n",
    "import pandas as pd\n",
    "import numpy as np\n",
    "import os\n",
    "\n",
    "##############Loading data and get an overview##########\n",
    "# reading csv file after dowloading\n",
    "df = pd.read_csv(\"C:/Users/user/Machine_Learning_ZoomCamp/Machine Learning for Regression/Data/laptops.csv\")\n",
    "\n",
    "# Let us view first five records of our dataset\n",
    "df.head()"
   ]
  },
  {
   "cell_type": "code",
   "execution_count": 2,
   "id": "7273566d-4d3e-42f6-ac58-0143d0fc231c",
   "metadata": {},
   "outputs": [
    {
     "data": {
      "text/html": [
       "<div>\n",
       "<style scoped>\n",
       "    .dataframe tbody tr th:only-of-type {\n",
       "        vertical-align: middle;\n",
       "    }\n",
       "\n",
       "    .dataframe tbody tr th {\n",
       "        vertical-align: top;\n",
       "    }\n",
       "\n",
       "    .dataframe thead th {\n",
       "        text-align: right;\n",
       "    }\n",
       "</style>\n",
       "<table border=\"1\" class=\"dataframe\">\n",
       "  <thead>\n",
       "    <tr style=\"text-align: right;\">\n",
       "      <th></th>\n",
       "      <th>laptop</th>\n",
       "      <th>status</th>\n",
       "      <th>brand</th>\n",
       "      <th>model</th>\n",
       "      <th>cpu</th>\n",
       "      <th>ram</th>\n",
       "      <th>storage</th>\n",
       "      <th>storage_type</th>\n",
       "      <th>gpu</th>\n",
       "      <th>screen</th>\n",
       "      <th>touch</th>\n",
       "      <th>final_price</th>\n",
       "    </tr>\n",
       "  </thead>\n",
       "  <tbody>\n",
       "    <tr>\n",
       "      <th>0</th>\n",
       "      <td>ASUS ExpertBook B1 B1502CBA-EJ0436X Intel Core...</td>\n",
       "      <td>New</td>\n",
       "      <td>Asus</td>\n",
       "      <td>ExpertBook</td>\n",
       "      <td>Intel Core i5</td>\n",
       "      <td>8</td>\n",
       "      <td>512</td>\n",
       "      <td>SSD</td>\n",
       "      <td>NaN</td>\n",
       "      <td>15.6</td>\n",
       "      <td>No</td>\n",
       "      <td>1009.00</td>\n",
       "    </tr>\n",
       "    <tr>\n",
       "      <th>1</th>\n",
       "      <td>Alurin Go Start Intel Celeron N4020/8GB/256GB ...</td>\n",
       "      <td>New</td>\n",
       "      <td>Alurin</td>\n",
       "      <td>Go</td>\n",
       "      <td>Intel Celeron</td>\n",
       "      <td>8</td>\n",
       "      <td>256</td>\n",
       "      <td>SSD</td>\n",
       "      <td>NaN</td>\n",
       "      <td>15.6</td>\n",
       "      <td>No</td>\n",
       "      <td>299.00</td>\n",
       "    </tr>\n",
       "    <tr>\n",
       "      <th>2</th>\n",
       "      <td>ASUS ExpertBook B1 B1502CBA-EJ0424X Intel Core...</td>\n",
       "      <td>New</td>\n",
       "      <td>Asus</td>\n",
       "      <td>ExpertBook</td>\n",
       "      <td>Intel Core i3</td>\n",
       "      <td>8</td>\n",
       "      <td>256</td>\n",
       "      <td>SSD</td>\n",
       "      <td>NaN</td>\n",
       "      <td>15.6</td>\n",
       "      <td>No</td>\n",
       "      <td>789.00</td>\n",
       "    </tr>\n",
       "    <tr>\n",
       "      <th>3</th>\n",
       "      <td>MSI Katana GF66 12UC-082XES Intel Core i7-1270...</td>\n",
       "      <td>New</td>\n",
       "      <td>MSI</td>\n",
       "      <td>Katana</td>\n",
       "      <td>Intel Core i7</td>\n",
       "      <td>16</td>\n",
       "      <td>1000</td>\n",
       "      <td>SSD</td>\n",
       "      <td>RTX 3050</td>\n",
       "      <td>15.6</td>\n",
       "      <td>No</td>\n",
       "      <td>1199.00</td>\n",
       "    </tr>\n",
       "    <tr>\n",
       "      <th>4</th>\n",
       "      <td>HP 15S-FQ5085NS Intel Core i5-1235U/16GB/512GB...</td>\n",
       "      <td>New</td>\n",
       "      <td>HP</td>\n",
       "      <td>15S</td>\n",
       "      <td>Intel Core i5</td>\n",
       "      <td>16</td>\n",
       "      <td>512</td>\n",
       "      <td>SSD</td>\n",
       "      <td>NaN</td>\n",
       "      <td>15.6</td>\n",
       "      <td>No</td>\n",
       "      <td>669.01</td>\n",
       "    </tr>\n",
       "  </tbody>\n",
       "</table>\n",
       "</div>"
      ],
      "text/plain": [
       "                                              laptop status   brand  \\\n",
       "0  ASUS ExpertBook B1 B1502CBA-EJ0436X Intel Core...    New    Asus   \n",
       "1  Alurin Go Start Intel Celeron N4020/8GB/256GB ...    New  Alurin   \n",
       "2  ASUS ExpertBook B1 B1502CBA-EJ0424X Intel Core...    New    Asus   \n",
       "3  MSI Katana GF66 12UC-082XES Intel Core i7-1270...    New     MSI   \n",
       "4  HP 15S-FQ5085NS Intel Core i5-1235U/16GB/512GB...    New      HP   \n",
       "\n",
       "        model            cpu  ram  storage storage_type       gpu  screen  \\\n",
       "0  ExpertBook  Intel Core i5    8      512          SSD       NaN    15.6   \n",
       "1          Go  Intel Celeron    8      256          SSD       NaN    15.6   \n",
       "2  ExpertBook  Intel Core i3    8      256          SSD       NaN    15.6   \n",
       "3      Katana  Intel Core i7   16     1000          SSD  RTX 3050    15.6   \n",
       "4         15S  Intel Core i5   16      512          SSD       NaN    15.6   \n",
       "\n",
       "  touch  final_price  \n",
       "0    No      1009.00  \n",
       "1    No       299.00  \n",
       "2    No       789.00  \n",
       "3    No      1199.00  \n",
       "4    No       669.01  "
      ]
     },
     "execution_count": 2,
     "metadata": {},
     "output_type": "execute_result"
    }
   ],
   "source": [
    "# Since some columns have spaces, let's normalize such columns by adding underscores and makining them lowercase\n",
    "df = df.copy()\n",
    "df.columns = df.columns.str.lower().str.replace(' ', '_')\n",
    "df.head()"
   ]
  },
  {
   "cell_type": "markdown",
   "id": "077b92a2-b313-4351-bcf3-1f2eddb5945b",
   "metadata": {},
   "source": [
    "Now, instead of 'Final Price', we have 'final_price'.\n",
    "\n",
    "Next, use only the following columns:\n",
    "+ 'ram'\n",
    "+ 'storage'\n",
    "+ 'screen'\n",
    "+ 'final_price'"
   ]
  },
  {
   "cell_type": "code",
   "execution_count": 3,
   "id": "7d67565c-f6ed-48c6-9cdd-0a08f05341ca",
   "metadata": {},
   "outputs": [
    {
     "data": {
      "text/html": [
       "<div>\n",
       "<style scoped>\n",
       "    .dataframe tbody tr th:only-of-type {\n",
       "        vertical-align: middle;\n",
       "    }\n",
       "\n",
       "    .dataframe tbody tr th {\n",
       "        vertical-align: top;\n",
       "    }\n",
       "\n",
       "    .dataframe thead th {\n",
       "        text-align: right;\n",
       "    }\n",
       "</style>\n",
       "<table border=\"1\" class=\"dataframe\">\n",
       "  <thead>\n",
       "    <tr style=\"text-align: right;\">\n",
       "      <th></th>\n",
       "      <th>ram</th>\n",
       "      <th>storage</th>\n",
       "      <th>screen</th>\n",
       "      <th>final_price</th>\n",
       "    </tr>\n",
       "  </thead>\n",
       "  <tbody>\n",
       "    <tr>\n",
       "      <th>0</th>\n",
       "      <td>8</td>\n",
       "      <td>512</td>\n",
       "      <td>15.6</td>\n",
       "      <td>1009.00</td>\n",
       "    </tr>\n",
       "    <tr>\n",
       "      <th>1</th>\n",
       "      <td>8</td>\n",
       "      <td>256</td>\n",
       "      <td>15.6</td>\n",
       "      <td>299.00</td>\n",
       "    </tr>\n",
       "    <tr>\n",
       "      <th>2</th>\n",
       "      <td>8</td>\n",
       "      <td>256</td>\n",
       "      <td>15.6</td>\n",
       "      <td>789.00</td>\n",
       "    </tr>\n",
       "    <tr>\n",
       "      <th>3</th>\n",
       "      <td>16</td>\n",
       "      <td>1000</td>\n",
       "      <td>15.6</td>\n",
       "      <td>1199.00</td>\n",
       "    </tr>\n",
       "    <tr>\n",
       "      <th>4</th>\n",
       "      <td>16</td>\n",
       "      <td>512</td>\n",
       "      <td>15.6</td>\n",
       "      <td>669.01</td>\n",
       "    </tr>\n",
       "  </tbody>\n",
       "</table>\n",
       "</div>"
      ],
      "text/plain": [
       "   ram  storage  screen  final_price\n",
       "0    8      512    15.6      1009.00\n",
       "1    8      256    15.6       299.00\n",
       "2    8      256    15.6       789.00\n",
       "3   16     1000    15.6      1199.00\n",
       "4   16      512    15.6       669.01"
      ]
     },
     "execution_count": 3,
     "metadata": {},
     "output_type": "execute_result"
    }
   ],
   "source": [
    "df2 = df[['ram', 'storage', 'screen', 'final_price']]\n",
    "df2.head()"
   ]
  },
  {
   "cell_type": "markdown",
   "id": "ad86dcbe-5d39-41a7-953f-36700cd03dcf",
   "metadata": {},
   "source": [
    "### Exploratory Data Analysis (EDA)\n",
    "+ Look at the final_price variable. Does it have a long tail?"
   ]
  },
  {
   "cell_type": "code",
   "execution_count": 4,
   "id": "8548ddcb-4a7e-40fb-8ac9-40193a4b1d40",
   "metadata": {},
   "outputs": [
    {
     "name": "stdout",
     "output_type": "stream",
     "text": [
      "ram\n",
      "0     8\n",
      "1     8\n",
      "2     8\n",
      "3    16\n",
      "4    16\n",
      "Name: ram, dtype: int64\n",
      "\n",
      "storage\n",
      "0     512\n",
      "1     256\n",
      "2     256\n",
      "3    1000\n",
      "4     512\n",
      "Name: storage, dtype: int64\n",
      "\n",
      "screen\n",
      "0    15.6\n",
      "1    15.6\n",
      "2    15.6\n",
      "3    15.6\n",
      "4    15.6\n",
      "Name: screen, dtype: float64\n",
      "\n",
      "final_price\n",
      "0    1009.00\n",
      "1     299.00\n",
      "2     789.00\n",
      "3    1199.00\n",
      "4     669.01\n",
      "Name: final_price, dtype: float64\n",
      "\n"
     ]
    }
   ],
   "source": [
    "# We want to understand how the data looks like just to get a feeling what values are there.\n",
    "# We are looking at each column and printing some values\n",
    "for col in df2.columns:\n",
    "    print(col)\n",
    "    print(df2[col].head())\n",
    "    print()"
   ]
  },
  {
   "cell_type": "markdown",
   "id": "9a1561ad-a680-4d72-85b8-dca600d1b663",
   "metadata": {},
   "source": [
    "+ Distribution of the **final_price**\n",
    "+ Look at the final_price variable. Does it have a long tail?"
   ]
  },
  {
   "cell_type": "code",
   "execution_count": 5,
   "id": "293cb677-cb2d-48cd-9771-e7873a6f4fbd",
   "metadata": {},
   "outputs": [
    {
     "data": {
      "text/plain": [
       "(2160, 4)"
      ]
     },
     "execution_count": 5,
     "metadata": {},
     "output_type": "execute_result"
    }
   ],
   "source": [
    "df2.shape"
   ]
  },
  {
   "cell_type": "code",
   "execution_count": 6,
   "id": "7a5c53af-93c5-40b1-a746-c7cf19dc821a",
   "metadata": {},
   "outputs": [
    {
     "data": {
      "image/png": "[encoded data removed]",
      "text/plain": [
       "<Figure size 640x480 with 1 Axes>"
      ]
     },
     "metadata": {},
     "output_type": "display_data"
    }
   ],
   "source": [
    "# Now I'm looking at the price and then visualize this column.\n",
    "import matplotlib.pyplot as plt\n",
    "import seaborn as sns\n",
    "\n",
    "# this line is needed to display the plots in notebooks\n",
    "%matplotlib inline\n",
    "\n",
    "# # bin = number of bars in the histogram\n",
    "# price = df2['final_price']\n",
    "# sns.displot(price, kde=True)\n",
    "# plt.show()\n",
    "\n",
    "sns.histplot(df2.final_price, bins=50)\n",
    "plt.show()"
   ]
  },
  {
   "cell_type": "markdown",
   "id": "b07d5252-74d3-4972-aa6b-004362c8bbed",
   "metadata": {},
   "source": [
    "+ The **\"final_price\"** variable does not follow a normal distribution, it is rightly skewed from price 3000 to 7000. We need to standardize it in order for the laptop prices to be normaly distributed."
   ]
  },
  {
   "cell_type": "code",
   "execution_count": 7,
   "id": "46304be1-8f3b-4425-9394-8ed339d0d37e",
   "metadata": {},
   "outputs": [
    {
     "data": {
      "image/png": "[encoded data removed]",
      "text/plain": [
       "<Figure size 640x480 with 1 Axes>"
      ]
     },
     "metadata": {},
     "output_type": "display_data"
    }
   ],
   "source": [
    "# Transform the distribution of final price\n",
    "final_price_logs = np.log1p(df2.final_price)\n",
    "sns.histplot(final_price_logs, bins=50)\n",
    "plt.show()"
   ]
  },
  {
   "cell_type": "markdown",
   "id": "d56b9210-a8f1-49ee-9db6-cec4489dab0f",
   "metadata": {},
   "source": [
    "### Question 1\n",
    "There's one column with missing values. What is it?\n",
    "+ 'ram'\n",
    "+ 'storage'\n",
    "+ 'screen'\n",
    "+ 'final_price'"
   ]
  },
  {
   "cell_type": "code",
   "execution_count": 8,
   "id": "67c6d118-96ea-42f3-9fda-dc2702b1ff2c",
   "metadata": {},
   "outputs": [
    {
     "data": {
      "text/plain": [
       "ram            0\n",
       "storage        0\n",
       "screen         4\n",
       "final_price    0\n",
       "dtype: int64"
      ]
     },
     "execution_count": 8,
     "metadata": {},
     "output_type": "execute_result"
    }
   ],
   "source": [
    "# Checking for the column that has missing values.\n",
    "df2.isnull().sum()"
   ]
  },
  {
   "cell_type": "markdown",
   "id": "a3ccc4ff-73de-4adc-b88f-5d3f557f1c9e",
   "metadata": {},
   "source": [
    "+ **screen** column has a total of 4 columns with missing data."
   ]
  },
  {
   "cell_type": "markdown",
   "id": "6e6d4bab-5739-414c-90c4-96f9beebafe4",
   "metadata": {},
   "source": [
    "### Question 2\n",
    "What's the median (50% percentile) for variable 'ram'?\n",
    "\n",
    "+ 8\n",
    "+ 16\n",
    "+ 24\n",
    "+ 32\n",
    "\n",
    "#### Prepare and split the dataset\n",
    "+ Shuffle the dataset (the filtered one you created above), use seed 42.\n",
    "+ Split your data in train/val/test sets, with 60%/20%/20% distribution.\n",
    "  \n",
    "Use the same code as in the lectures"
   ]
  },
  {
   "cell_type": "code",
   "execution_count": 9,
   "id": "b12c3487-60ee-4895-91f3-64305119e1cd",
   "metadata": {},
   "outputs": [
    {
     "data": {
      "text/plain": [
       "count    2160.000000\n",
       "mean       15.413889\n",
       "std         9.867815\n",
       "min         4.000000\n",
       "25%         8.000000\n",
       "50%        16.000000\n",
       "75%        16.000000\n",
       "max       128.000000\n",
       "Name: ram, dtype: float64"
      ]
     },
     "execution_count": 9,
     "metadata": {},
     "output_type": "execute_result"
    }
   ],
   "source": [
    "#% 50 Percentile\n",
    "df2['ram'].describe()"
   ]
  },
  {
   "cell_type": "code",
   "execution_count": 10,
   "id": "4fb41998-8faa-4f22-86a3-2b6ee85820cc",
   "metadata": {},
   "outputs": [
    {
     "name": "stdout",
     "output_type": "stream",
     "text": [
      "2160\n",
      "432\n",
      "2160 432 432\n"
     ]
    },
    {
     "data": {
      "text/html": [
       "<div>\n",
       "<style scoped>\n",
       "    .dataframe tbody tr th:only-of-type {\n",
       "        vertical-align: middle;\n",
       "    }\n",
       "\n",
       "    .dataframe tbody tr th {\n",
       "        vertical-align: top;\n",
       "    }\n",
       "\n",
       "    .dataframe thead th {\n",
       "        text-align: right;\n",
       "    }\n",
       "</style>\n",
       "<table border=\"1\" class=\"dataframe\">\n",
       "  <thead>\n",
       "    <tr style=\"text-align: right;\">\n",
       "      <th></th>\n",
       "      <th>ram</th>\n",
       "      <th>storage</th>\n",
       "      <th>screen</th>\n",
       "    </tr>\n",
       "  </thead>\n",
       "  <tbody>\n",
       "    <tr>\n",
       "      <th>0</th>\n",
       "      <td>32</td>\n",
       "      <td>1000</td>\n",
       "      <td>15.6</td>\n",
       "    </tr>\n",
       "    <tr>\n",
       "      <th>1</th>\n",
       "      <td>4</td>\n",
       "      <td>64</td>\n",
       "      <td>14.1</td>\n",
       "    </tr>\n",
       "    <tr>\n",
       "      <th>2</th>\n",
       "      <td>32</td>\n",
       "      <td>1000</td>\n",
       "      <td>14.0</td>\n",
       "    </tr>\n",
       "    <tr>\n",
       "      <th>3</th>\n",
       "      <td>16</td>\n",
       "      <td>512</td>\n",
       "      <td>13.3</td>\n",
       "    </tr>\n",
       "    <tr>\n",
       "      <th>4</th>\n",
       "      <td>32</td>\n",
       "      <td>1000</td>\n",
       "      <td>16.0</td>\n",
       "    </tr>\n",
       "  </tbody>\n",
       "</table>\n",
       "</div>"
      ],
      "text/plain": [
       "   ram  storage  screen\n",
       "0   32     1000    15.6\n",
       "1    4       64    14.1\n",
       "2   32     1000    14.0\n",
       "3   16      512    13.3\n",
       "4   32     1000    16.0"
      ]
     },
     "execution_count": 10,
     "metadata": {},
     "output_type": "execute_result"
    }
   ],
   "source": [
    "# ...................Prepare and split the dataset.................\n",
    "# Shuffle the dataset (the filtered one you created above, use seed 42.\n",
    "# Split your data in train/val/test sets, with 60%/20%/20% distribution.\n",
    "\n",
    "# Returns the number of records of the whole dataset\n",
    "print(len(df2)) # Output: 2160\n",
    "print(int(len(df2) * 0.2)) # Output: 432\n",
    "\n",
    "n = len(df2)\n",
    "n_val = n_test = int(n * 0.2)\n",
    "n_train = n-n_val-n_test\n",
    "print(n, n_val, n_test) # Output: (2160, 432, 432)\n",
    "\n",
    "df2_train = df2.iloc[:n_train]\n",
    "df2_val = df2.iloc[n_train:n_train + n_val]\n",
    "df2_test = df2.iloc[n_train + n_val:]\n",
    "\n",
    "# Let's now shuffle our datasets to conclude division.\n",
    "idx = np.arange(n)\n",
    "# idx\n",
    "\n",
    "# To make it reproducible.\n",
    "np.random.seed(42)\n",
    "np.random.shuffle(idx)\n",
    "idx\n",
    "\n",
    "# Using shuffle dataset to create training, validation and testing datasets\n",
    "df2_train = df2.iloc[idx[:n_train]]\n",
    "df2_val = df2.iloc[idx[n_train:n_train + n_val]]\n",
    "df2_test = df2.iloc[idx[n_train + n_val:]]\n",
    "\n",
    "# Now there is no order in the index column so we can reset index and drop the old index column\n",
    "df2_train = df2_train.reset_index(drop=True)\n",
    "df2_val = df2_val.reset_index(drop=True)\n",
    "df2_test = df2_test.reset_index(drop=True)\n",
    "\n",
    "# Let's apply log1p transformation to the final_price variable in order to be normaly distributed.\n",
    "y_train = np.log1p(df2_train.final_price.values)\n",
    "y_val = np.log1p(df2_val.final_price.values)\n",
    "y_test = np.log1p(df2_test.final_price.values)\n",
    "\n",
    "# Let us remove final_price values from the dataframes(df2_train, df2_val, df2_test) to make sure we don't use it for training purpoes.\n",
    "del df2_train['final_price']\n",
    "del df2_val['final_price']\n",
    "del df2_test['final_price']\n",
    "df2_train.head()"
   ]
  },
  {
   "cell_type": "markdown",
   "id": "cb2f36a8-7f7d-4a96-b9ef-fbf63107fcbc",
   "metadata": {},
   "source": [
    "### Question 3\n",
    "+ We need to deal with missing values for the column from Q1.\n",
    "+ We have two options: fill it with 0 or with the mean of this variable.\n",
    "+ Try both options. For each, train a linear regression model without regularization using the code from the lessons.\n",
    "+ For computing the mean, use the training only!\n",
    "+ Use the validation dataset to evaluate the models and compare the RMSE of each option.\n",
    "+ Round the RMSE scores to 2 decimal digits using round(score, 2)\n",
    "+ Which option gives better RMSE?\n",
    "\n",
    "Options:\n",
    "+ With 0\n",
    "+ With mean\n",
    "+ Both are equally good"
   ]
  },
  {
   "cell_type": "code",
   "execution_count": 11,
   "id": "3f64f527-4aac-4065-bc00-e8fa5b3e1fed",
   "metadata": {},
   "outputs": [
    {
     "name": "stdout",
     "output_type": "stream",
     "text": [
      "Training:\n",
      "ram        0\n",
      "storage    0\n",
      "screen     3\n",
      "dtype: int64\n",
      "\n",
      "Validation:\n",
      "ram        0\n",
      "storage    0\n",
      "screen     1\n",
      "dtype: int64\n",
      "\n",
      "Testing:\n",
      "ram        0\n",
      "storage    0\n",
      "screen     0\n",
      "dtype: int64\n"
     ]
    }
   ],
   "source": [
    "print(f\"Training:\\n{df2_train.isnull().sum()}\\n\")\n",
    "\n",
    "print(f\"Validation:\\n{df2_val.isnull().sum()}\\n\")\n",
    "\n",
    "print(f\"Testing:\\n{df2_test.isnull().sum()}\")"
   ]
  },
  {
   "cell_type": "code",
   "execution_count": 12,
   "id": "1eb5f6f5-0a2c-4e2b-b464-efb95063b472",
   "metadata": {},
   "outputs": [
    {
     "name": "stdout",
     "output_type": "stream",
     "text": [
      "ram        0\n",
      "storage    0\n",
      "screen     0\n",
      "dtype: int64\n",
      "ram        0\n",
      "storage    0\n",
      "screen     0\n",
      "dtype: int64\n"
     ]
    }
   ],
   "source": [
    "df_train_0 = df2_train.fillna(0)\n",
    "df_val_0 = df2_val.fillna(0)\n",
    "print(df_train_0.isnull().sum())\n",
    "print(df_val_0.isnull().sum())"
   ]
  },
  {
   "cell_type": "code",
   "execution_count": 13,
   "id": "af1f3985-af57-452b-9e2e-435f4d7d0cf3",
   "metadata": {},
   "outputs": [
    {
     "data": {
      "text/html": [
       "<div>\n",
       "<style scoped>\n",
       "    .dataframe tbody tr th:only-of-type {\n",
       "        vertical-align: middle;\n",
       "    }\n",
       "\n",
       "    .dataframe tbody tr th {\n",
       "        vertical-align: top;\n",
       "    }\n",
       "\n",
       "    .dataframe thead th {\n",
       "        text-align: right;\n",
       "    }\n",
       "</style>\n",
       "<table border=\"1\" class=\"dataframe\">\n",
       "  <thead>\n",
       "    <tr style=\"text-align: right;\">\n",
       "      <th></th>\n",
       "      <th>ram</th>\n",
       "      <th>storage</th>\n",
       "      <th>screen</th>\n",
       "    </tr>\n",
       "  </thead>\n",
       "  <tbody>\n",
       "    <tr>\n",
       "      <th>0</th>\n",
       "      <td>32</td>\n",
       "      <td>1000</td>\n",
       "      <td>15.6</td>\n",
       "    </tr>\n",
       "    <tr>\n",
       "      <th>1</th>\n",
       "      <td>4</td>\n",
       "      <td>64</td>\n",
       "      <td>14.1</td>\n",
       "    </tr>\n",
       "    <tr>\n",
       "      <th>2</th>\n",
       "      <td>32</td>\n",
       "      <td>1000</td>\n",
       "      <td>14.0</td>\n",
       "    </tr>\n",
       "    <tr>\n",
       "      <th>3</th>\n",
       "      <td>16</td>\n",
       "      <td>512</td>\n",
       "      <td>13.3</td>\n",
       "    </tr>\n",
       "    <tr>\n",
       "      <th>4</th>\n",
       "      <td>32</td>\n",
       "      <td>1000</td>\n",
       "      <td>16.0</td>\n",
       "    </tr>\n",
       "  </tbody>\n",
       "</table>\n",
       "</div>"
      ],
      "text/plain": [
       "   ram  storage  screen\n",
       "0   32     1000    15.6\n",
       "1    4       64    14.1\n",
       "2   32     1000    14.0\n",
       "3   16      512    13.3\n",
       "4   32     1000    16.0"
      ]
     },
     "execution_count": 13,
     "metadata": {},
     "output_type": "execute_result"
    }
   ],
   "source": [
    "df_train_0.head()"
   ]
  },
  {
   "cell_type": "code",
   "execution_count": 14,
   "id": "393df6d6-6c7b-45b0-bcd2-0b93e0a5b218",
   "metadata": {},
   "outputs": [
    {
     "data": {
      "text/plain": [
       "ram        0\n",
       "storage    0\n",
       "screen     0\n",
       "dtype: int64"
      ]
     },
     "execution_count": 14,
     "metadata": {},
     "output_type": "execute_result"
    }
   ],
   "source": [
    "df_train_mean = df2_train.fillna(df2_train['screen'].mean())\n",
    "df_val_mean = df2_val.fillna(df2_val['screen'].mean())\n",
    "df_val_mean.isnull().sum()"
   ]
  },
  {
   "cell_type": "code",
   "execution_count": 15,
   "id": "eab90947-67f4-46b9-a23f-8e34b449ad75",
   "metadata": {},
   "outputs": [
    {
     "data": {
      "text/plain": [
       "ram        0\n",
       "storage    0\n",
       "screen     0\n",
       "dtype: int64"
      ]
     },
     "execution_count": 15,
     "metadata": {},
     "output_type": "execute_result"
    }
   ],
   "source": [
    "df_train_mean.isnull().sum()"
   ]
  },
  {
   "cell_type": "code",
   "execution_count": 16,
   "id": "76c8ac89-6f6f-47aa-80a7-3d58001702e4",
   "metadata": {},
   "outputs": [
    {
     "data": {
      "text/plain": [
       "ram         16.0\n",
       "storage    512.0\n",
       "screen      15.6\n",
       "Name: 10, dtype: float64"
      ]
     },
     "execution_count": 16,
     "metadata": {},
     "output_type": "execute_result"
    }
   ],
   "source": [
    "# Training linear regression model.\n",
    "df_train_0.iloc[10]"
   ]
  },
  {
   "cell_type": "code",
   "execution_count": 17,
   "id": "b5c3dbcd-0b34-433e-9c02-15b679af0636",
   "metadata": {},
   "outputs": [
    {
     "data": {
      "text/plain": [
       "10000"
      ]
     },
     "execution_count": 17,
     "metadata": {},
     "output_type": "execute_result"
    }
   ],
   "source": [
    "xi = [16, 512, 15]\n",
    "\n",
    "def g(xi):\n",
    "    # do something and return the predicted price of laptop\n",
    "    return 10000\n",
    "\n",
    "g(xi) # 10000"
   ]
  },
  {
   "cell_type": "code",
   "execution_count": 18,
   "id": "e35b6a9d-c0fb-42a6-b151-8bd4e8ddfa39",
   "metadata": {},
   "outputs": [
    {
     "data": {
      "text/plain": [
       "1547"
      ]
     },
     "execution_count": 18,
     "metadata": {},
     "output_type": "execute_result"
    }
   ],
   "source": [
    "# Implementation of the g-function (renamed as linear_regression).\n",
    "def linear_regression(xi):\n",
    "    n = len(xi)    \n",
    "    pred = w0\n",
    "     \n",
    "    for j in range(n):\n",
    "        pred = pred + w[j] * xi[j]\n",
    "     \n",
    "    return pred\n",
    " \n",
    "# sample values for w0 and w and the given xi\n",
    "xi = [138, 24, 1385]\n",
    "w0 = 0\n",
    "w = [1, 1, 1]\n",
    "linear_regression(xi)"
   ]
  },
  {
   "cell_type": "code",
   "execution_count": 19,
   "id": "fda611e3-14bd-45e1-9131-8890cee1bdc3",
   "metadata": {},
   "outputs": [
    {
     "data": {
      "text/plain": [
       "12.280000000000001"
      ]
     },
     "execution_count": 19,
     "metadata": {},
     "output_type": "execute_result"
    }
   ],
   "source": [
    "# try some other values\n",
    "w0 = 7.17\n",
    "w = [0.01, 0.04, 0.002]\n",
    "linear_regression(xi)"
   ]
  },
  {
   "cell_type": "code",
   "execution_count": 20,
   "id": "b38ad116-21aa-450f-b5e0-961fbf6e746c",
   "metadata": {},
   "outputs": [
    {
     "name": "stdout",
     "output_type": "stream",
     "text": [
      "215344.7166272456\n"
     ]
    },
    {
     "data": {
      "text/plain": [
       "12.280000000000001"
      ]
     },
     "execution_count": 20,
     "metadata": {},
     "output_type": "execute_result"
    }
   ],
   "source": [
    "# There is still one important step to do. Because we logarithmized (log(y+1)) the price at the beginning, we now have to undo that. \n",
    "# This gives us the predicted price in $. Our car has a price of $215,344.72.\n",
    "\n",
    "# Get the real prediction for the price in $\n",
    "# We do \"-1\" here to undo the \"+1\" inside the log\n",
    "np.exp(12.280000000000001) - 1\n",
    "# Output: 215344.7166272456\n",
    " \n",
    "# Shortcut to not do -1 manually\n",
    "print(np.expm1(12.280000000000001))\n",
    "# Output: 215344.7166272456\n",
    " \n",
    "# Just for checking only\n",
    "np.log1p(215344.7166272456)\n",
    "# Output: 12.280000000000001"
   ]
  },
  {
   "cell_type": "code",
   "execution_count": 21,
   "id": "3ba3fbf0-9440-461a-8e5c-285b7f4388d4",
   "metadata": {},
   "outputs": [],
   "source": [
    "# Linear Regression vector form.\n",
    "def dot(xi, w):\n",
    "    n = len(xi)\n",
    "    \n",
    "    res = 0.0\n",
    "    \n",
    "    for j in range(n):\n",
    "        res = res + xi[j] * w[j]\n",
    "    \n",
    "    return res\n",
    "\n",
    "def linear_regression(xi):\n",
    "    return w0 + dot(xi, w)"
   ]
  },
  {
   "cell_type": "code",
   "execution_count": 22,
   "id": "4c9b15fb-23d6-4b3c-afef-fe6aee0437c9",
   "metadata": {},
   "outputs": [
    {
     "data": {
      "text/plain": [
       "[7.17, 0.01, 0.04, 0.002]"
      ]
     },
     "execution_count": 22,
     "metadata": {},
     "output_type": "execute_result"
    }
   ],
   "source": [
    "xi = [138, 24, 1385]\n",
    "w0 = 7.17\n",
    "w = [0.01, 0.04, 0.002]\n",
    " \n",
    "# adding w0 to the vector w\n",
    "w_new = [w0] + w\n",
    "w_new\n",
    "# Output: [7.17, 0.01, 0.04, 0.002]\n",
    " \n",
    "xi\n",
    "w_new\n",
    "# Output: [138, 24, 1385]"
   ]
  },
  {
   "cell_type": "code",
   "execution_count": 23,
   "id": "8b1cbfec-2cd1-4904-b064-6684f77e9f26",
   "metadata": {},
   "outputs": [
    {
     "data": {
      "text/plain": [
       "12.280000000000001"
      ]
     },
     "execution_count": 23,
     "metadata": {},
     "output_type": "execute_result"
    }
   ],
   "source": [
    "# Updated code for linear regression\n",
    "def linear_regression(xi):\n",
    "    xi = [1] + xi\n",
    "    return dot(xi, w_new)\n",
    " \n",
    "linear_regression(xi)\n",
    "# Output: 12.280000000000001"
   ]
  },
  {
   "cell_type": "code",
   "execution_count": 24,
   "id": "a8fa35e7-3d50-45d7-b14f-7e2d6ef2e9f7",
   "metadata": {},
   "outputs": [
    {
     "data": {
      "text/plain": [
       "array([237992.82334859, 768348.51018973, 222347.22211011])"
      ]
     },
     "execution_count": 24,
     "metadata": {},
     "output_type": "execute_result"
    }
   ],
   "source": [
    "w0 = 7.17\n",
    "w = [0.01, 0.04, 0.002]\n",
    "w_new = [w0] + w\n",
    " \n",
    "x1  = [1, 148, 24, 1385]\n",
    "x2  = [1, 132, 25, 2031]\n",
    "x10 = [1, 453, 11, 86]\n",
    " \n",
    "# X becomes a list of lists\n",
    "X = [x1, x2, x10]\n",
    "X\n",
    "# Output: [[1, 148, 24, 1385], [1, 132, 25, 2031], [1, 453, 11, 86]]\n",
    " \n",
    "# This turns the list of lists into a matrix\n",
    "X = np.array(X)\n",
    "X\n",
    "# Output:\n",
    "# array([[   1,  148,   24, 1385],\n",
    "#              [   1,  132,   25, 2031],\n",
    "#              [   1,  453,   11,   86]])\n",
    " \n",
    "# Now we have predictions, so for each car we have a price for this car\n",
    "y = X.dot(w_new)\n",
    " \n",
    "# shortcut to not do -1 manually to get the real $ price\n",
    "np.expm1(y) \n",
    "# Output: array([237992.82334859, 768348.51018973, 222347.22211011])"
   ]
  },
  {
   "cell_type": "code",
   "execution_count": 25,
   "id": "58c4352a-6e63-4763-bda6-37437e5082cd",
   "metadata": {},
   "outputs": [
    {
     "data": {
      "text/plain": [
       "array([237992.82334859, 768348.51018973, 222347.22211011])"
      ]
     },
     "execution_count": 25,
     "metadata": {},
     "output_type": "execute_result"
    }
   ],
   "source": [
    "# The next snippet shows the implementation of the adapted linear_regression function\n",
    "def linear_regression(X):\n",
    "    return X.dot(w_new)\n",
    " \n",
    "y = linear_regression(X)\n",
    "np.expm1(y)\n",
    "# Output: array([237992.82334859, 768348.51018973, 222347.22211011])"
   ]
  },
  {
   "cell_type": "code",
   "execution_count": 26,
   "id": "fcae2f65-8add-4e49-9a42-b93422373082",
   "metadata": {},
   "outputs": [],
   "source": [
    "# Training A linear Regression Model.\n",
    "\n",
    "# We need to implement the function train_linear_regression, \n",
    "# that takes the feature matrix X and the target variable y and returns the vector w.\n",
    "def train_linear_regression(X, y):\n",
    "    pass"
   ]
  },
  {
   "cell_type": "code",
   "execution_count": 27,
   "id": "93ed77da-af7d-47d8-b293-fcb52d502be5",
   "metadata": {},
   "outputs": [
    {
     "data": {
      "text/plain": [
       "array([[ 148,   24, 1385],\n",
       "       [ 132,   25, 2031],\n",
       "       [ 453,   11,   86],\n",
       "       [ 158,   24,  185],\n",
       "       [ 172,   25,  201],\n",
       "       [ 413,   11,   83],\n",
       "       [  38,   54,  185],\n",
       "       [ 142,   25,  431],\n",
       "       [ 453,   31,   86]])"
      ]
     },
     "execution_count": 27,
     "metadata": {},
     "output_type": "execute_result"
    }
   ],
   "source": [
    "# To approach this implementation we first use a simplified example.\n",
    "X =[\n",
    "    [148, 24, 1385],\n",
    "    [132, 25, 2031],\n",
    "    [453, 11, 86],\n",
    "    [158, 24, 185],\n",
    "    [172, 25, 201],\n",
    "    [413, 11, 83],\n",
    "    [38, 54, 185],\n",
    "    [142, 25, 431],\n",
    "    [453, 31, 86],  \n",
    "]\n",
    " \n",
    "X = np.array(X)\n",
    "X\n",
    "# Output: \n",
    "# array([[ 148,   24, 1385],\n",
    "#             [ 132,   25, 2031],\n",
    "#             [ 453,   11,   86],\n",
    "#             [ 158,   24,  185],\n",
    "#             [ 172,   25,  201],\n",
    "#             [ 413,   11,   83],\n",
    "#             [  38,   54,  185],\n",
    "#             [ 142,   25,  431],\n",
    "#             [ 453,   31,   86]])"
   ]
  },
  {
   "cell_type": "code",
   "execution_count": 28,
   "id": "3950f232-1cc6-403c-8524-8f13419f8719",
   "metadata": {},
   "outputs": [
    {
     "data": {
      "text/plain": [
       "array([1., 1., 1., 1., 1., 1., 1., 1., 1.])"
      ]
     },
     "execution_count": 28,
     "metadata": {},
     "output_type": "execute_result"
    }
   ],
   "source": [
    "# Let's add a new column with ones to the feature matrix X\n",
    "# That is for the multiplication with w0.\n",
    "ones = np.ones(9)\n",
    "ones\n",
    "# Output: array([1., 1., 1., 1., 1., 1., 1., 1., 1.])\n",
    " \n",
    "# X.shape[0] looks at the number of rows and creates the vector of ones\n",
    "ones = np.ones(X.shape[0])\n",
    "ones\n",
    "# Output: array([1., 1., 1.])"
   ]
  },
  {
   "cell_type": "code",
   "execution_count": 29,
   "id": "97811d0a-1c99-4a8f-a8f5-9aa007c29c42",
   "metadata": {},
   "outputs": [
    {
     "data": {
      "text/plain": [
       "array([[1., 1.],\n",
       "       [1., 1.],\n",
       "       [1., 1.],\n",
       "       [1., 1.],\n",
       "       [1., 1.],\n",
       "       [1., 1.],\n",
       "       [1., 1.],\n",
       "       [1., 1.],\n",
       "       [1., 1.]])"
      ]
     },
     "execution_count": 29,
     "metadata": {},
     "output_type": "execute_result"
    }
   ],
   "source": [
    "# Now we need to stack this vector of ones with our feature matrix X. \n",
    "# For this we can use the NumPy function np.column_stack() as shown in the next snippet.\n",
    "np.column_stack([ones, ones])\n",
    "# Output: \n",
    "# array([[1., 1.],\n",
    "#             [1., 1.],\n",
    "#             [1., 1.],\n",
    "#             [1., 1.],\n",
    "#             [1., 1.],\n",
    "#             [1., 1.],\n",
    "#             [1., 1.],\n",
    "#             [1., 1.],\n",
    "#             [1., 1.]])"
   ]
  },
  {
   "cell_type": "code",
   "execution_count": 30,
   "id": "344810f7-edc2-41f4-980e-27dbddf8ce8f",
   "metadata": {},
   "outputs": [],
   "source": [
    "X = np.column_stack([ones, X])\n",
    "y = [10000, 20000, 15000, 25000, 10000, 20000, 15000, 25000, 12000]\n",
    " \n",
    "# GRAM MATRIX\n",
    "XTX = X.T.dot(X)\n",
    " \n",
    "# Inverse GRAM MATRIX\n",
    "XTX_inv = np.linalg.inv(XTX)"
   ]
  },
  {
   "cell_type": "code",
   "execution_count": 31,
   "id": "5d81af15-8cf1-439a-8ade-666a1985aeb3",
   "metadata": {},
   "outputs": [
    {
     "data": {
      "text/plain": [
       "array([[ 1.,  0., -0.,  0.],\n",
       "       [ 0.,  1.,  0.,  0.],\n",
       "       [ 0.,  0.,  1.,  0.],\n",
       "       [ 0.,  0., -0.,  1.]])"
      ]
     },
     "execution_count": 31,
     "metadata": {},
     "output_type": "execute_result"
    }
   ],
   "source": [
    "# In the following code snippet we test whether the multiplication of\n",
    "# XTX with XTX_inv actually produces the Identity matrix I.\n",
    "# Without round(1) it's not exactly identity matrix but the other values \n",
    "# are very close to 0 --> we can treat them as 0 and take it as identity matrix\n",
    "XTX.dot(XTX_inv)\n",
    "# Output:\n",
    "#array([[ 1.00000000e+00,  2.60208521e-18,  4.85722573e-17,\n",
    "         # 1.08420217e-18],\n",
    "#       [ 4.54747351e-13,  1.00000000e+00,  1.50990331e-14,\n",
    "         # 2.22044605e-16],\n",
    "#       [ 5.68434189e-14,  1.11022302e-16,  1.00000000e+00,\n",
    "         # 3.46944695e-17],\n",
    "#       [ 9.09494702e-13,  0.00000000e+00, -2.13162821e-14,\n",
    "         # 1.00000000e+00]])\n",
    " \n",
    "# This gives us the I matrix\n",
    "XTX.dot(XTX_inv).round(1)\n",
    "# Output: \n",
    "# array([[ 1.,  0.,  0.,  0.],\n",
    "#             [ 0.,  1.,  0.,  0.],\n",
    "#             [ 0.,  0.,  1.,  0.],\n",
    "#             [ 0.,  0., -0.,  1.]])"
   ]
  },
  {
   "cell_type": "code",
   "execution_count": 32,
   "id": "29904795-42f8-4625-8960-ceb71f8b079b",
   "metadata": {},
   "outputs": [
    {
     "data": {
      "text/plain": [
       "array([ 3.00092529e+04, -2.27839691e+01, -2.57690874e+02, -2.30322797e+00])"
      ]
     },
     "execution_count": 32,
     "metadata": {},
     "output_type": "execute_result"
    }
   ],
   "source": [
    "# Now we can implement the formula to get the full w vector.\n",
    "# w_full contains all the weights\n",
    "w_full = XTX_inv.dot(X.T).dot(y)\n",
    "w_full\n",
    "# Output: array([ 3.00092529e+04, -2.27839691e+01, -2.57690874e+02, -2.30322797e+00])"
   ]
  },
  {
   "cell_type": "code",
   "execution_count": 33,
   "id": "cad767aa-d706-46a7-a76b-3673d09c117d",
   "metadata": {},
   "outputs": [
    {
     "data": {
      "text/plain": [
       "(30009.2529227667, array([ -22.78396914, -257.69087426,   -2.30322797]))"
      ]
     },
     "execution_count": 33,
     "metadata": {},
     "output_type": "execute_result"
    }
   ],
   "source": [
    "# From that vector w_full we can extract w0 and all the other weights.\n",
    "w0 = w_full[0]\n",
    "w = w_full[1:]\n",
    "w0, w\n",
    "# Output: (30009.25292276666, array([ -22.78396914, -257.69087426,   -2.30322797]))"
   ]
  },
  {
   "cell_type": "code",
   "execution_count": 34,
   "id": "5d7dc80c-ba1a-4192-ae10-9aa19309f06e",
   "metadata": {},
   "outputs": [],
   "source": [
    "# Now we can implement the function train_linear_regression, that takes the feature matrix X and the target variable y\n",
    "# and returns w0 and the vector w.\n",
    "def train_linear_regression(X, y):\n",
    "    ones = np.ones(X.shape[0])\n",
    "    X = np.column_stack([ones, X])\n",
    "     \n",
    "    XTX = X.T.dot(X)\n",
    "    XTX_inv = np.linalg.inv(XTX)\n",
    "    w_full = XTX_inv.dot(X.T).dot(y)\n",
    "     \n",
    "    return w_full[0], w_full[1:]"
   ]
  },
  {
   "cell_type": "code",
   "execution_count": 35,
   "id": "fcca3869-261e-48d0-903e-557cbdaadc7c",
   "metadata": {},
   "outputs": [
    {
     "data": {
      "text/plain": [
       "(30009.2529227667, array([ -22.78396914, -257.69087426,   -2.30322797]))"
      ]
     },
     "execution_count": 35,
     "metadata": {},
     "output_type": "execute_result"
    }
   ],
   "source": [
    "# Let’s test this newly implemented function with some simple examples:\n",
    "X =[\n",
    "    [148, 24, 1385],\n",
    "    [132, 25, 2031],\n",
    "    [453, 11, 86],\n",
    "    [158, 24, 185],\n",
    "    [172, 25, 201],\n",
    "    [413, 11, 83],\n",
    "    [38, 54, 185],\n",
    "    [142, 25, 431],\n",
    "    [453, 31, 86],  \n",
    "]\n",
    " \n",
    "X = np.array(X)\n",
    "y = [10000, 20000, 15000, 25000, 10000, 20000, 15000, 25000, 12000]\n",
    " \n",
    "train_linear_regression(X, y)\n",
    "# Output: (30009.25292276666, array([ -22.78396914, -257.69087426,   -2.30322797]))"
   ]
  },
  {
   "cell_type": "markdown",
   "id": "58d32c68-dc4e-4fe2-b837-3542881e2f20",
   "metadata": {},
   "source": [
    "### Laptop Price Baseline Model"
   ]
  },
  {
   "cell_type": "code",
   "execution_count": 36,
   "id": "b9d9e9bb-ff91-4b4c-bf59-610067201fa7",
   "metadata": {},
   "outputs": [
    {
     "data": {
      "text/plain": [
       "Index(['ram', 'storage', 'screen'], dtype='object')"
      ]
     },
     "execution_count": 36,
     "metadata": {},
     "output_type": "execute_result"
    }
   ],
   "source": [
    "df_train_0.columns"
   ]
  },
  {
   "cell_type": "code",
   "execution_count": 37,
   "id": "4ffb6355-c22d-44dd-8f40-ccffa32d4863",
   "metadata": {},
   "outputs": [
    {
     "data": {
      "text/plain": [
       "ram          int64\n",
       "storage      int64\n",
       "screen     float64\n",
       "dtype: object"
      ]
     },
     "execution_count": 37,
     "metadata": {},
     "output_type": "execute_result"
    }
   ],
   "source": [
    "df_train_0.dtypes"
   ]
  },
  {
   "cell_type": "code",
   "execution_count": 38,
   "id": "b6e14705-57f0-4ee2-9a73-d3979b4eb677",
   "metadata": {},
   "outputs": [
    {
     "data": {
      "text/html": [
       "<div>\n",
       "<style scoped>\n",
       "    .dataframe tbody tr th:only-of-type {\n",
       "        vertical-align: middle;\n",
       "    }\n",
       "\n",
       "    .dataframe tbody tr th {\n",
       "        vertical-align: top;\n",
       "    }\n",
       "\n",
       "    .dataframe thead th {\n",
       "        text-align: right;\n",
       "    }\n",
       "</style>\n",
       "<table border=\"1\" class=\"dataframe\">\n",
       "  <thead>\n",
       "    <tr style=\"text-align: right;\">\n",
       "      <th></th>\n",
       "      <th>ram</th>\n",
       "      <th>storage</th>\n",
       "      <th>screen</th>\n",
       "    </tr>\n",
       "  </thead>\n",
       "  <tbody>\n",
       "    <tr>\n",
       "      <th>0</th>\n",
       "      <td>32</td>\n",
       "      <td>1000</td>\n",
       "      <td>15.6</td>\n",
       "    </tr>\n",
       "    <tr>\n",
       "      <th>1</th>\n",
       "      <td>4</td>\n",
       "      <td>64</td>\n",
       "      <td>14.1</td>\n",
       "    </tr>\n",
       "    <tr>\n",
       "      <th>2</th>\n",
       "      <td>32</td>\n",
       "      <td>1000</td>\n",
       "      <td>14.0</td>\n",
       "    </tr>\n",
       "    <tr>\n",
       "      <th>3</th>\n",
       "      <td>16</td>\n",
       "      <td>512</td>\n",
       "      <td>13.3</td>\n",
       "    </tr>\n",
       "    <tr>\n",
       "      <th>4</th>\n",
       "      <td>32</td>\n",
       "      <td>1000</td>\n",
       "      <td>16.0</td>\n",
       "    </tr>\n",
       "  </tbody>\n",
       "</table>\n",
       "</div>"
      ],
      "text/plain": [
       "   ram  storage  screen\n",
       "0   32     1000    15.6\n",
       "1    4       64    14.1\n",
       "2   32     1000    14.0\n",
       "3   16      512    13.3\n",
       "4   32     1000    16.0"
      ]
     },
     "execution_count": 38,
     "metadata": {},
     "output_type": "execute_result"
    }
   ],
   "source": [
    "# We choose the columns ram, screan, and storage for our base model.\n",
    "base = ['ram', 'storage', 'screen']\n",
    " \n",
    "df_train_0[base].head()"
   ]
  },
  {
   "cell_type": "code",
   "execution_count": 39,
   "id": "22af40a6-f439-4dd2-8110-8f8c0bc08d8c",
   "metadata": {},
   "outputs": [
    {
     "data": {
      "text/plain": [
       "array([[  32. , 1000. ,   15.6],\n",
       "       [   4. ,   64. ,   14.1],\n",
       "       [  32. , 1000. ,   14. ],\n",
       "       ...,\n",
       "       [  16. ,  512. ,   15.6],\n",
       "       [  16. ,  512. ,   14. ],\n",
       "       [  16. ,  512. ,   14. ]])"
      ]
     },
     "execution_count": 39,
     "metadata": {},
     "output_type": "execute_result"
    }
   ],
   "source": [
    "# Value extraction\n",
    "X_train = df_train_0[base].values\n",
    "X_train\n",
    "# Output:\n",
    "#array([[ 310.,    8.,   18.,   13., 1851.],\n",
    "#            [ 170.,    4.,   32.,   24.,  640.],\n",
    "#            [ 165.,    6.,   15.,   13.,  549.],\n",
    "#            ...,\n",
    "#            [ 342.,    8.,   24.,   17.,  454.],\n",
    "#            [ 170.,    4.,   28.,   23., 2009.],\n",
    "#            [ 160.,    6.,   19.,   14.,  586.]])"
   ]
  },
  {
   "cell_type": "code",
   "execution_count": 40,
   "id": "ee6bc9f9-cbf8-4c85-8e15-2d9dd78c6c87",
   "metadata": {},
   "outputs": [
    {
     "data": {
      "text/plain": [
       "ram        0\n",
       "storage    0\n",
       "screen     0\n",
       "dtype: int64"
      ]
     },
     "execution_count": 40,
     "metadata": {},
     "output_type": "execute_result"
    }
   ],
   "source": [
    "# Misssing values\n",
    "df_train_0[base].isnull().sum()"
   ]
  },
  {
   "cell_type": "code",
   "execution_count": 41,
   "id": "67c15dbf-b2ea-40b7-98a5-1383f40f201f",
   "metadata": {},
   "outputs": [
    {
     "data": {
      "text/plain": [
       "array([7.024907  , 5.30851519, 6.90649448, ..., 6.96602419, 7.42177579,\n",
       "       6.96318999])"
      ]
     },
     "execution_count": 41,
     "metadata": {},
     "output_type": "execute_result"
    }
   ],
   "source": [
    "y_train"
   ]
  },
  {
   "cell_type": "code",
   "execution_count": 42,
   "id": "bfa29298-fcbc-49f2-9f46-9ea9c36af9c8",
   "metadata": {},
   "outputs": [
    {
     "data": {
      "text/plain": [
       "(6.7271637061124805, array([ 0.02630589,  0.00066041, -0.03651909]))"
      ]
     },
     "execution_count": 42,
     "metadata": {},
     "output_type": "execute_result"
    }
   ],
   "source": [
    "w0, w = train_linear_regression(X_train, y_train)\n",
    "w0, w"
   ]
  },
  {
   "cell_type": "code",
   "execution_count": 43,
   "id": "0b75272a-837e-4ffc-8f49-948dad7b8f0a",
   "metadata": {},
   "outputs": [
    {
     "data": {
      "text/plain": [
       "0      7.645053\n",
       "1      6.916488\n",
       "2      6.811265\n",
       "3      6.610015\n",
       "4      6.706041\n",
       "         ...   \n",
       "427    6.547395\n",
       "428    6.620971\n",
       "429    6.764472\n",
       "430    6.974919\n",
       "431    6.363386\n",
       "Length: 432, dtype: float64"
      ]
     },
     "execution_count": 43,
     "metadata": {},
     "output_type": "execute_result"
    }
   ],
   "source": [
    "# We can use this two variables to apply the model to our training dataset to see how well the model has learned \n",
    "# the training data. \n",
    "# We do not want the model to simply memorize the data, but to recognize the correlations. Later, \n",
    "# we’ll also apply the model to unseen data so that we can eliminate memorization.\n",
    "X_val_0 = df_val_0\n",
    "y_pred_0 = w0 + X_val_0.dot(w)\n",
    "y_pred_0"
   ]
  },
  {
   "cell_type": "code",
   "execution_count": 44,
   "id": "6fc7f3d3-9942-41ba-a884-96334cff7098",
   "metadata": {},
   "outputs": [
    {
     "data": {
      "image/png": "[encoded data removed]",
      "text/plain": [
       "<Figure size 640x480 with 1 Axes>"
      ]
     },
     "metadata": {},
     "output_type": "display_data"
    }
   ],
   "source": [
    "# Plotting the model performance\n",
    "\n",
    "# alpha changes the transparency of the bars\n",
    "# bins specifies the number of bars\n",
    "sns.histplot(y_pred_0, color='red', alpha=0.5, bins=50)\n",
    "sns.histplot(y_train, color='blue', alpha=0.5, bins=50)\n",
    "plt.show()"
   ]
  },
  {
   "cell_type": "code",
   "execution_count": 45,
   "id": "370dd183-291e-46cb-a308-a286b4e3e467",
   "metadata": {},
   "outputs": [
    {
     "data": {
      "text/html": [
       "<div>\n",
       "<style scoped>\n",
       "    .dataframe tbody tr th:only-of-type {\n",
       "        vertical-align: middle;\n",
       "    }\n",
       "\n",
       "    .dataframe tbody tr th {\n",
       "        vertical-align: top;\n",
       "    }\n",
       "\n",
       "    .dataframe thead th {\n",
       "        text-align: right;\n",
       "    }\n",
       "</style>\n",
       "<table border=\"1\" class=\"dataframe\">\n",
       "  <thead>\n",
       "    <tr style=\"text-align: right;\">\n",
       "      <th></th>\n",
       "      <th>ram</th>\n",
       "      <th>storage</th>\n",
       "      <th>screen</th>\n",
       "    </tr>\n",
       "  </thead>\n",
       "  <tbody>\n",
       "    <tr>\n",
       "      <th>0</th>\n",
       "      <td>32</td>\n",
       "      <td>1000</td>\n",
       "      <td>15.6</td>\n",
       "    </tr>\n",
       "    <tr>\n",
       "      <th>1</th>\n",
       "      <td>4</td>\n",
       "      <td>64</td>\n",
       "      <td>14.1</td>\n",
       "    </tr>\n",
       "    <tr>\n",
       "      <th>2</th>\n",
       "      <td>32</td>\n",
       "      <td>1000</td>\n",
       "      <td>14.0</td>\n",
       "    </tr>\n",
       "    <tr>\n",
       "      <th>3</th>\n",
       "      <td>16</td>\n",
       "      <td>512</td>\n",
       "      <td>13.3</td>\n",
       "    </tr>\n",
       "    <tr>\n",
       "      <th>4</th>\n",
       "      <td>32</td>\n",
       "      <td>1000</td>\n",
       "      <td>16.0</td>\n",
       "    </tr>\n",
       "  </tbody>\n",
       "</table>\n",
       "</div>"
      ],
      "text/plain": [
       "   ram  storage  screen\n",
       "0   32     1000    15.6\n",
       "1    4       64    14.1\n",
       "2   32     1000    14.0\n",
       "3   16      512    13.3\n",
       "4   32     1000    16.0"
      ]
     },
     "execution_count": 45,
     "metadata": {},
     "output_type": "execute_result"
    }
   ],
   "source": [
    "X_val_mean = df_val_mean\n",
    "df_train_mean.head()"
   ]
  },
  {
   "cell_type": "code",
   "execution_count": 46,
   "id": "a238c9e0-5bf3-4ac5-a9b0-7d1189aa35d9",
   "metadata": {},
   "outputs": [
    {
     "data": {
      "text/plain": [
       "ram          int64\n",
       "storage      int64\n",
       "screen     float64\n",
       "dtype: object"
      ]
     },
     "execution_count": 46,
     "metadata": {},
     "output_type": "execute_result"
    }
   ],
   "source": [
    "df_train_mean.dtypes"
   ]
  },
  {
   "cell_type": "code",
   "execution_count": 47,
   "id": "f4f3520e-1f66-4dc5-8963-65fa193b821a",
   "metadata": {},
   "outputs": [
    {
     "data": {
      "text/html": [
       "<div>\n",
       "<style scoped>\n",
       "    .dataframe tbody tr th:only-of-type {\n",
       "        vertical-align: middle;\n",
       "    }\n",
       "\n",
       "    .dataframe tbody tr th {\n",
       "        vertical-align: top;\n",
       "    }\n",
       "\n",
       "    .dataframe thead th {\n",
       "        text-align: right;\n",
       "    }\n",
       "</style>\n",
       "<table border=\"1\" class=\"dataframe\">\n",
       "  <thead>\n",
       "    <tr style=\"text-align: right;\">\n",
       "      <th></th>\n",
       "      <th>ram</th>\n",
       "      <th>storage</th>\n",
       "      <th>screen</th>\n",
       "    </tr>\n",
       "  </thead>\n",
       "  <tbody>\n",
       "    <tr>\n",
       "      <th>0</th>\n",
       "      <td>32</td>\n",
       "      <td>1000</td>\n",
       "      <td>15.6</td>\n",
       "    </tr>\n",
       "    <tr>\n",
       "      <th>1</th>\n",
       "      <td>4</td>\n",
       "      <td>64</td>\n",
       "      <td>14.1</td>\n",
       "    </tr>\n",
       "    <tr>\n",
       "      <th>2</th>\n",
       "      <td>32</td>\n",
       "      <td>1000</td>\n",
       "      <td>14.0</td>\n",
       "    </tr>\n",
       "    <tr>\n",
       "      <th>3</th>\n",
       "      <td>16</td>\n",
       "      <td>512</td>\n",
       "      <td>13.3</td>\n",
       "    </tr>\n",
       "    <tr>\n",
       "      <th>4</th>\n",
       "      <td>32</td>\n",
       "      <td>1000</td>\n",
       "      <td>16.0</td>\n",
       "    </tr>\n",
       "  </tbody>\n",
       "</table>\n",
       "</div>"
      ],
      "text/plain": [
       "   ram  storage  screen\n",
       "0   32     1000    15.6\n",
       "1    4       64    14.1\n",
       "2   32     1000    14.0\n",
       "3   16      512    13.3\n",
       "4   32     1000    16.0"
      ]
     },
     "execution_count": 47,
     "metadata": {},
     "output_type": "execute_result"
    }
   ],
   "source": [
    "# We choose the columns ram, screan, and storage for our base model.\n",
    "base = ['ram', 'storage', 'screen']\n",
    " \n",
    "df_train_mean[base].head()"
   ]
  },
  {
   "cell_type": "code",
   "execution_count": 48,
   "id": "5913c7da-1ac9-4d79-8c12-8aff7ada0af4",
   "metadata": {},
   "outputs": [
    {
     "data": {
      "text/plain": [
       "array([[  32. , 1000. ,   15.6],\n",
       "       [   4. ,   64. ,   14.1],\n",
       "       [  32. , 1000. ,   14. ],\n",
       "       ...,\n",
       "       [  16. ,  512. ,   15.6],\n",
       "       [  16. ,  512. ,   14. ],\n",
       "       [  16. ,  512. ,   14. ]])"
      ]
     },
     "execution_count": 48,
     "metadata": {},
     "output_type": "execute_result"
    }
   ],
   "source": [
    "# Value extraction\n",
    "X_train_mean = df_train_mean[base].values\n",
    "X_train_mean"
   ]
  },
  {
   "cell_type": "code",
   "execution_count": 49,
   "id": "c0696428-a5a6-4751-9d10-86ebddf7bdfb",
   "metadata": {},
   "outputs": [
    {
     "data": {
      "text/plain": [
       "array([7.024907  , 5.30851519, 6.90649448, ..., 6.96602419, 7.42177579,\n",
       "       6.96318999])"
      ]
     },
     "execution_count": 49,
     "metadata": {},
     "output_type": "execute_result"
    }
   ],
   "source": [
    "y_train"
   ]
  },
  {
   "cell_type": "code",
   "execution_count": 50,
   "id": "1f350d30-2f87-47de-971f-8284b496b9aa",
   "metadata": {},
   "outputs": [
    {
     "data": {
      "text/plain": [
       "(6.855566544134296, array([ 0.02650252,  0.00066643, -0.04534341]))"
      ]
     },
     "execution_count": 50,
     "metadata": {},
     "output_type": "execute_result"
    }
   ],
   "source": [
    "w0, w = train_linear_regression(X_train_mean, y_train)\n",
    "w0, w"
   ]
  },
  {
   "cell_type": "code",
   "execution_count": 51,
   "id": "6d013350-f8e4-4dbf-81a6-6f1da96e8c1b",
   "metadata": {},
   "outputs": [
    {
     "data": {
      "text/plain": [
       "0      7.644579\n",
       "1      6.913460\n",
       "2      6.807450\n",
       "3      6.621521\n",
       "4      6.701440\n",
       "         ...   \n",
       "427    6.563425\n",
       "428    6.635124\n",
       "429    6.773989\n",
       "430    6.986009\n",
       "431    6.369420\n",
       "Length: 432, dtype: float64"
      ]
     },
     "execution_count": 51,
     "metadata": {},
     "output_type": "execute_result"
    }
   ],
   "source": [
    "y_pred_mean = w0 + X_val_mean.dot(w)\n",
    "y_pred_mean"
   ]
  },
  {
   "cell_type": "code",
   "execution_count": 52,
   "id": "1dfa0742-28a5-4470-a6d1-6273c0b8cbf7",
   "metadata": {},
   "outputs": [
    {
     "data": {
      "image/png": "[encoded data removed]",
      "text/plain": [
       "<Figure size 640x480 with 1 Axes>"
      ]
     },
     "metadata": {},
     "output_type": "display_data"
    }
   ],
   "source": [
    "sns.histplot(y_pred_mean, color='red', alpha=0.5, bins=50)\n",
    "sns.histplot(y_train, color='blue', alpha=0.5, bins=50)\n",
    "plt.show()"
   ]
  },
  {
   "cell_type": "code",
   "execution_count": 53,
   "id": "6e1de85b-9b52-40bb-824d-2e3eec9803fc",
   "metadata": {},
   "outputs": [
    {
     "name": "stdout",
     "output_type": "stream",
     "text": [
      "Filling missing values with the mean and 0 are both giving better RMSE\n"
     ]
    }
   ],
   "source": [
    "def rmse(y, y_pred):\n",
    "    error = y_pred - y\n",
    "    mse = (error ** 2).mean()\n",
    "    return np.sqrt(mse)\n",
    "\n",
    "rmse_0 = (rmse(y_val, y_pred_0)).round(2)\n",
    "rmse_mean = rmse(y_val, y_pred_mean).round(2)\n",
    "\n",
    "# Compare RMSEs\n",
    "if rmse_0 < rmse_mean:\n",
    "    print(\"Filling missing values with 0 gives a better RMSE.\")\n",
    "elif rmse_0 == rmse_mean:\n",
    "    print(\"Filling missing values with the mean and 0 are both giving better RMSE\")\n",
    "else:\n",
    "    print(\"Filling missing values with the mean gives a better RMSE.\")"
   ]
  },
  {
   "cell_type": "code",
   "execution_count": 54,
   "id": "0cba6297-e1e0-446f-991d-f26cfccbd1cb",
   "metadata": {},
   "outputs": [
    {
     "name": "stdout",
     "output_type": "stream",
     "text": [
      "0.43\n",
      "0.43\n"
     ]
    }
   ],
   "source": [
    "print(rmse_0)\n",
    "print(rmse_mean)"
   ]
  },
  {
   "cell_type": "markdown",
   "id": "f5310fe0-2898-4a57-ac72-e54c8c433bd7",
   "metadata": {},
   "source": [
    "### Question 4\n",
    "+ Now let's train a regularized linear regression.\n",
    "+ For this equation, fill the NAs with 0\n",
    "+ Try different values of r from the list: [0, 0.01, 0.1, 1, 5, 10, 100]\n",
    "+ Use RMSE to evaluate the model on the validation dataset.\n",
    "+ Round the RMSE scores to 2 decimal digits.\n",
    "+ Which r gives the best RMSE?\n",
    "\n",
    "If there are multiple options, select the smallest r.\n",
    "Options:\n",
    "+ 0\n",
    "+ 0.01\n",
    "+ 1\n",
    "+ 10\n",
    "+ 100"
   ]
  },
  {
   "cell_type": "code",
   "execution_count": 55,
   "id": "7c4f24fe-57df-4175-b5e4-f213fa74d4bd",
   "metadata": {
    "jp-MarkdownHeadingCollapsed": true
   },
   "outputs": [
    {
     "name": "stdout",
     "output_type": "stream",
     "text": [
      "    0, 6.73, 0.00, -0.04\n",
      " 0.01, 6.73, 0.00, -0.04\n",
      "  0.1, 6.73, 0.00, -0.04\n",
      "    1, 6.73, 0.00, -0.04\n",
      "    5, 6.73, 0.00, -0.04\n",
      "   10, 6.73, 0.00, -0.04\n",
      "  100, 6.73, 0.00, -0.04\n"
     ]
    }
   ],
   "source": [
    "def train_linear_regression_reg(X, y, r=0.0):\n",
    "    ones = np.ones(X.shape[0])\n",
    "    X = np.column_stack([ones, X])\n",
    "\n",
    "    XTX = X.T.dot(X)\n",
    "    reg = r * np.eye(XTX.shape[0])\n",
    "    XTX = XTX + reg\n",
    "\n",
    "    XTX_inv = np.linalg.inv(XTX)\n",
    "    w = XTX_inv.dot(X.T).dot(y)\n",
    "\n",
    "    return w[0], w[1:]\n",
    "    \n",
    "base = ['ram', 'storage', 'screen']\n",
    "X_train = X_train = df_train_0[base].values\n",
    "y_train = y_train.copy()\n",
    "\n",
    "for r in [0, 0.01, 0.1, 1, 5, 10, 100]:\n",
    "    w_0, w = train_linear_regression_reg(X_train, y_train)\n",
    "    print('%5s, %.2f, %.2f, %.2f' % (r, w_0, w[1], w[2]))"
   ]
  },
  {
   "cell_type": "code",
   "execution_count": 56,
   "id": "3f7f78a5-8869-46a3-a2d5-c7a7d4b6c35d",
   "metadata": {},
   "outputs": [
    {
     "name": "stdout",
     "output_type": "stream",
     "text": [
      "train 0.45\n",
      "val 0.43\n"
     ]
    }
   ],
   "source": [
    "X_train = X_train.copy()\n",
    "w_0, w = train_linear_regression_reg(X_train, y_train, r=0)\n",
    "\n",
    "y_pred = w_0 + X_train.dot(w)\n",
    "print('train', rmse(y_train, y_pred).round(2))\n",
    "\n",
    "X_val = X_val_0.copy()\n",
    "y_pred = w_0 + X_val.dot(w)\n",
    "print('val', rmse(y_val, y_pred).round(2))"
   ]
  },
  {
   "cell_type": "code",
   "execution_count": 57,
   "id": "a91ef77d-028e-422b-9742-cfe77585d4a9",
   "metadata": {},
   "outputs": [
    {
     "name": "stdout",
     "output_type": "stream",
     "text": [
      "train 0.45\n",
      "val 0.43\n"
     ]
    }
   ],
   "source": [
    "X_train = X_train.copy()\n",
    "w_0, w = train_linear_regression_reg(X_train, y_train, r=0.01)\n",
    "\n",
    "y_pred = w_0 + X_train.dot(w)\n",
    "print('train', rmse(y_train, y_pred).round(2))\n",
    "\n",
    "X_val = X_val_0.copy()\n",
    "y_pred = w_0 + X_val.dot(w)\n",
    "print('val', rmse(y_val, y_pred).round(2))"
   ]
  },
  {
   "cell_type": "code",
   "execution_count": 58,
   "id": "03bcaa34-c344-4795-ba2d-314949b4ad67",
   "metadata": {},
   "outputs": [
    {
     "name": "stdout",
     "output_type": "stream",
     "text": [
      "train 0.45\n",
      "val 0.43\n"
     ]
    }
   ],
   "source": [
    "X_train = X_train.copy()\n",
    "w_0, w = train_linear_regression_reg(X_train, y_train, r=0.1)\n",
    "\n",
    "y_pred = w_0 + X_train.dot(w)\n",
    "print('train', rmse(y_train, y_pred).round(2))\n",
    "\n",
    "X_val = X_val_0.copy()\n",
    "y_pred = w_0 + X_val.dot(w)\n",
    "print('val', rmse(y_val, y_pred).round(2))"
   ]
  },
  {
   "cell_type": "code",
   "execution_count": 59,
   "id": "6fea4980-7ce5-41bf-bfdc-b5ed01d90b52",
   "metadata": {},
   "outputs": [
    {
     "name": "stdout",
     "output_type": "stream",
     "text": [
      "train 0.45\n",
      "val 0.43\n"
     ]
    }
   ],
   "source": [
    "X_train = X_train.copy()\n",
    "w_0, w = train_linear_regression_reg(X_train, y_train, r=1)\n",
    "\n",
    "y_pred = w_0 + X_train.dot(w)\n",
    "print('train', rmse(y_train, y_pred).round(2))\n",
    "\n",
    "X_val = X_val_0.copy()\n",
    "y_pred = w_0 + X_val.dot(w)\n",
    "print('val', rmse(y_val, y_pred).round(2))"
   ]
  },
  {
   "cell_type": "code",
   "execution_count": 60,
   "id": "a8549d66-0bb2-4c2c-8f5c-40becda243d3",
   "metadata": {},
   "outputs": [
    {
     "name": "stdout",
     "output_type": "stream",
     "text": [
      "train 0.49\n",
      "val 0.46\n"
     ]
    }
   ],
   "source": [
    "X_train = X_train.copy()\n",
    "w_0, w = train_linear_regression_reg(X_train, y_train, r=5)\n",
    "\n",
    "y_pred = w_0 + X_train.dot(w)\n",
    "print('train', rmse(y_train, y_pred).round(2))\n",
    "\n",
    "X_val = X_val_0.copy()\n",
    "y_pred = w_0 + X_val.dot(w)\n",
    "print('val', rmse(y_val, y_pred).round(2))"
   ]
  },
  {
   "cell_type": "code",
   "execution_count": 61,
   "id": "f0bc650c-b40f-4c1d-9898-42edd2688eef",
   "metadata": {},
   "outputs": [
    {
     "name": "stdout",
     "output_type": "stream",
     "text": [
      "train 0.53\n",
      "val 0.51\n"
     ]
    }
   ],
   "source": [
    "X_train = X_train.copy()\n",
    "w_0, w = train_linear_regression_reg(X_train, y_train, r=10)\n",
    "\n",
    "y_pred = w_0 + X_train.dot(w)\n",
    "print('train', rmse(y_train, y_pred).round(2))\n",
    "\n",
    "X_val = X_val_0.copy()\n",
    "y_pred = w_0 + X_val.dot(w)\n",
    "print('val', rmse(y_val, y_pred).round(2))"
   ]
  },
  {
   "cell_type": "code",
   "execution_count": 62,
   "id": "4181a86b-5777-4092-ae8d-f1514122a1b8",
   "metadata": {},
   "outputs": [
    {
     "name": "stdout",
     "output_type": "stream",
     "text": [
      "train 0.71\n",
      "val 0.67\n"
     ]
    }
   ],
   "source": [
    "X_train = X_train.copy()\n",
    "w_0, w = train_linear_regression_reg(X_train, y_train, r=100)\n",
    "\n",
    "y_pred = w_0 + X_train.dot(w)\n",
    "print('train', rmse(y_train, y_pred).round(2))\n",
    "\n",
    "X_val = X_val_0.copy()\n",
    "y_pred = w_0 + X_val.dot(w)\n",
    "print('val', rmse(y_val, y_pred).round(2))"
   ]
  },
  {
   "cell_type": "markdown",
   "id": "3bb16a0a-748b-453f-883b-d65604d94ff0",
   "metadata": {},
   "source": [
    "### Question 5\n",
    "+ We used seed 42 for splitting the data. Let's find out how selecting the seed influences our score.\n",
    "+ Try different seed values: [0, 1, 2, 3, 4, 5, 6, 7, 8, 9].\n",
    "+ For each seed do the train/validation/test split with 60%/20%/20% distribution.\n",
    "+ Fill the missing values with 0 and train the model without regulation.\n",
    "+ For each seed, evaluate the model on the validation datasets and collect the RMSE scores\n",
    "+ What's the standard deviation of all the scores? To compute the standard deviation, use np.std\n",
    "+ Round the result to 3 decimal digits (round(std, 3))\n",
    "\n",
    "What's the value of std?\n",
    "+ 19.176\n",
    "+ 29.176\n",
    "+ 39.176\n",
    "+ 49.176"
   ]
  },
  {
   "cell_type": "code",
   "execution_count": 63,
   "id": "c9261739-3949-4439-9b6e-424f1855801e",
   "metadata": {},
   "outputs": [
    {
     "name": "stdout",
     "output_type": "stream",
     "text": [
      "ram            0\n",
      "storage        0\n",
      "screen         0\n",
      "final_price    0\n",
      "dtype: int64\n",
      "ram            0\n",
      "storage        0\n",
      "screen         0\n",
      "final_price    0\n",
      "dtype: int64\n",
      "ram            0\n",
      "storage        0\n",
      "screen         0\n",
      "final_price    0\n",
      "dtype: int64\n"
     ]
    },
    {
     "data": {
      "text/plain": [
       "29.176"
      ]
     },
     "execution_count": 63,
     "metadata": {},
     "output_type": "execute_result"
    }
   ],
   "source": [
    "data = df2.copy()\n",
    "\n",
    "#######Split the dataset like previously, use seed 9####\n",
    "n = len(df2)\n",
    "n_val = n_test = int(n * 0.2)\n",
    "n_train = n-n_val-n_test\n",
    "\n",
    "df2_train = df2.iloc[:n_train]\n",
    "df2_val = df2.iloc[n_train:n_train + n_val]\n",
    "df2_test = df2.iloc[n_train + n_val:]\n",
    "\n",
    "# Let's now shuffle our datasets to conclude division.\n",
    "idx = np.arange(n)\n",
    "# idx\n",
    "\n",
    "# To make it reproducible.\n",
    "np.random.seed(9)\n",
    "np.random.shuffle(idx)\n",
    "idx\n",
    "\n",
    "# Using shuffle dataset to create training, validation and testing datasets\n",
    "df2_train = df2.iloc[idx[:n_train]]\n",
    "df2_val = df2.iloc[idx[n_train:n_train + n_val]]\n",
    "df2_test = df2.iloc[idx[n_train + n_val:]]\n",
    "\n",
    "# Now there is no order in the index column so we can reset index and drop the old index column\n",
    "df2_train = df2_train.reset_index(drop=True)\n",
    "df2_val = df2_val.reset_index(drop=True)\n",
    "df2_test = df2_test.reset_index(drop=True)\n",
    "\n",
    "df_train = df2_train.fillna(0)\n",
    "df_test = df2_test.fillna(0)\n",
    "df_val = df2_val.fillna(0)\n",
    "\n",
    "print(df_train.isnull().sum())\n",
    "print(df_test.isnull().sum())\n",
    "print(df_val.isnull().sum())\n",
    "\n",
    "# Training the model\n",
    "def train_linear_regression(X, y):\n",
    "    ones = np.ones(X.shape[0])\n",
    "    X = np.column_stack([ones, X])\n",
    "     \n",
    "    XTX = X.T.dot(X)\n",
    "    XTX_inv = np.linalg.inv(XTX)\n",
    "    w_full = XTX_inv.dot(X.T).dot(y)\n",
    "     \n",
    "    return w_full[0], w_full[1:]\n",
    "\n",
    "def rmse(y, y_pred):\n",
    "    error = y_pred - y\n",
    "    mse = (error ** 2).mean()\n",
    "    return np.sqrt(mse)\n",
    "\n",
    "base = ['ram', 'storage', 'screen']\n",
    "X_train = df_train[base].values\n",
    "X_val = df_val[base].values\n",
    "X_test = df_test[base].values\n",
    "\n",
    "y_train = df_train.final_price.values\n",
    "y_val = df_val.final_price.values\n",
    "y_test = df_test.final_price.values\n",
    "\n",
    "w_0, w = train_linear_regression_reg(X_train, y_train)\n",
    "y_pred = w_0 + X_val.dot(w)\n",
    "rmse_val_seed_9 = rmse(y_val, y_pred).round(2)\n",
    "# rmse_val_seed_0 = 565.45\n",
    "# rmse_val_seed_1 = 636.8\n",
    "# rmse_val_seed_2 = 588.96\n",
    "# rmse_val_seed_3 = 597.81\n",
    "# rmse_val_seed_4 = 571.97\n",
    "# rmse_val_seed_5 = 573.24\n",
    "# rmse_val_seed_6 = 647.34\n",
    "# rmse_val_seed_7 = 550.44\n",
    "# rmse_val_seed_8 = 587.33\n",
    "# rmse_val_seed_9 = 576.1\n",
    "rmse_scores = np.array([565.45, 636.8, 588.96, 597.81, 571.97, 573.24, 647.34, 550.44, 587.33, 576.1])\n",
    "standard_deviation_rmse = rmse_scores.std().round(3)\n",
    "standard_deviation_rmse"
   ]
  },
  {
   "cell_type": "markdown",
   "id": "0df3657c-bc61-4799-8fed-2418ef488ce9",
   "metadata": {},
   "source": [
    "### Question 6\n",
    "+ Split the dataset like previously, use seed 9.\n",
    "+ combine train and validation datasets.\n",
    "+ Fill the missing values with 0 and train a model with r=0.001\n",
    "+ What's the RMSE on the test dataset?"
   ]
  },
  {
   "cell_type": "code",
   "execution_count": 64,
   "id": "fdecab6c-5717-4706-b0f7-0a42d2c208ec",
   "metadata": {},
   "outputs": [
    {
     "name": "stdout",
     "output_type": "stream",
     "text": [
      "ram            0\n",
      "storage        0\n",
      "screen         0\n",
      "final_price    0\n",
      "dtype: int64\n",
      "ram            0\n",
      "storage        0\n",
      "screen         0\n",
      "final_price    0\n",
      "dtype: int64\n",
      "RMSE on Test Dataset:  890.59\n"
     ]
    }
   ],
   "source": [
    "data = df2.copy()\n",
    "\n",
    "#######Split the dataset like previously, use seed 9####\n",
    "n = len(df2)\n",
    "n_val = n_test = int(n * 0.2)\n",
    "n_train = n-n_val-n_test\n",
    "\n",
    "df2_train = df2.iloc[:n_train]\n",
    "df2_val = df2.iloc[n_train:n_train + n_val]\n",
    "df2_test = df2.iloc[n_train + n_val:]\n",
    "\n",
    "# Let's now shuffle our datasets to conclude division.\n",
    "idx = np.arange(n)\n",
    "# idx\n",
    "\n",
    "# To make it reproducible.\n",
    "np.random.seed(9)\n",
    "np.random.shuffle(idx)\n",
    "idx\n",
    "\n",
    "# Using shuffle dataset to create training, validation and testing datasets\n",
    "df2_train = df2.iloc[idx[:n_train]]\n",
    "df2_val = df2.iloc[idx[n_train:n_train + n_val]]\n",
    "df2_test = df2.iloc[idx[n_train + n_val:]]\n",
    "\n",
    "# Now there is no order in the index column so we can reset index and drop the old index column\n",
    "df2_train = df2_train.reset_index(drop=True)\n",
    "df2_val = df2_val.reset_index(drop=True)\n",
    "df2_test = df2_test.reset_index(drop=True)\n",
    "\n",
    "#############combine train and validation datasets#####\n",
    "df_training = pd.concat([df2_train, df2_val], axis=0)\n",
    "df_testing = df2_test.copy()\n",
    "\n",
    "############Fill the missing values with 0 and train a model with r=0.001##########\n",
    "# Fill missing values\n",
    "df_training = df_training.fillna(0)\n",
    "df_testing = df_testing.fillna(0)\n",
    "print(df_training.isnull().sum())\n",
    "print(df_testing.isnull().sum())\n",
    "\n",
    "# Let's apply log1p transformation to the final_price variable in order to be normaly distributed.\n",
    "y_train = np.log1p(df_training.final_price.values)\n",
    "y_test = np.log1p(df_testing.final_price.values)\n",
    "\n",
    "base = ['ram', 'storage', 'screen']\n",
    "X_train = df_training[base].values\n",
    "X_test = df_testing[base].values\n",
    "\n",
    "# Training the Model with regularization\n",
    "def train_linear_regression_reg(X, y, r=0.001):\n",
    "    ones = np.ones(X.shape[0])\n",
    "    X = np.column_stack([ones, X])\n",
    "\n",
    "    XTX = X.T.dot(X)\n",
    "    reg = r * np.eye(XTX.shape[0])\n",
    "    XTX = XTX + reg\n",
    "\n",
    "    XTX_inv = np.linalg.inv(XTX)\n",
    "    w = XTX_inv.dot(X.T).dot(y)\n",
    "\n",
    "    return w[0], w[1:]\n",
    "\n",
    "def rmse(y, y_pred):\n",
    "    error = y_pred - y\n",
    "    mse = (error ** 2).mean()\n",
    "    return np.sqrt(mse)\n",
    "    \n",
    "w_0, w = train_linear_regression_reg(X_train, y_train)\n",
    "\n",
    "X_test = X_test.copy()\n",
    "y_test = y_test.copy()\n",
    "y_test1 = np.expm1(y_test)\n",
    "y_pred = w_0 + X_test.dot(w)\n",
    "y_pred1 = np.expm1(y_pred)\n",
    "rmse_test = rmse(y_test1, y_pred1).round(2)\n",
    "print('RMSE on Test Dataset: ', rmse_test)"
   ]
  },
  {
   "cell_type": "markdown",
   "id": "e0cf48d8-10d0-4722-bd6b-994e033158db",
   "metadata": {},
   "source": [
    "### Using the model"
   ]
  }
 ],
 "metadata": {
  "kernelspec": {
   "display_name": "Python 3 (ipykernel)",
   "language": "python",
   "name": "python3"
  },
  "language_info": {
   "codemirror_mode": {
    "name": "ipython",
    "version": 3
   },
   "file_extension": ".py",
   "mimetype": "text/x-python",
   "name": "python",
   "nbconvert_exporter": "python",
   "pygments_lexer": "ipython3",
   "version": "3.11.9"
  }
 },
 "nbformat": 4,
 "nbformat_minor": 5
}
