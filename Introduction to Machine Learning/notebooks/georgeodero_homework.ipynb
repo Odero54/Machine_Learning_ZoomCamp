{
 "cells": [
  {
   "cell_type": "markdown",
   "id": "f9e5ff08-2330-403e-a2bf-8d0ea77d434f",
   "metadata": {},
   "source": [
    "You can access the notebook via <A Href=\"https://colab.research.google.com/drive/1lhTQj2yp4ILf4TIXOghZmN6ZS39WgRZF?authuser=1\">Colab.</A>\n",
    "## Homework #1\n",
    "+ Pre-requisite: You need to install Python, NumPy, Pandas, Matplotlib and Seaborn. For that, you can use the instructions from <A Href=\"https://github.com/DataTalksClub/machine-learning-zoomcamp/blob/master/01-intro/06-environment.md\">06-environment.md.</A>"
   ]
  },
  {
   "cell_type": "code",
   "execution_count": 1,
   "id": "943a3027-fed4-4422-95e0-beb8f7b92a1d",
   "metadata": {},
   "outputs": [
    {
     "name": "stdout",
     "output_type": "stream",
     "text": [
      "Imports Successfull!\n"
     ]
    }
   ],
   "source": [
    "import numpy as np\n",
    "import pandas as pd\n",
    "print(\"Imports Successfull!\")"
   ]
  },
  {
   "cell_type": "markdown",
   "id": "f4824121-4946-47c9-aba8-625fe1e65fc8",
   "metadata": {},
   "source": [
    "### Q1. Pandas version\n",
    "What's the version of pandas that you installed?\n",
    "\n",
    "You can get the version information using the __version__ field:"
   ]
  },
  {
   "cell_type": "code",
   "execution_count": 2,
   "id": "6a837100-04ff-4f2e-8207-7d23c1387497",
   "metadata": {},
   "outputs": [
    {
     "name": "stdout",
     "output_type": "stream",
     "text": [
      "The version of pandas that I installed is 2.2.2\n"
     ]
    }
   ],
   "source": [
    "print(f\"The version of pandas that I installed is {pd.__version__}\")"
   ]
  },
  {
   "cell_type": "markdown",
   "id": "f86bd56c-ee3a-45db-8f18-6103f5a10716",
   "metadata": {},
   "source": [
    "+ The version of installed pandas is **2.2.2**"
   ]
  },
  {
   "cell_type": "markdown",
   "id": "0b5e1889-e211-4262-9e0d-765873c5d927",
   "metadata": {},
   "source": [
    "### Getting the data\n",
    "\n",
    "For this homework, we'll use the Laptops Price dataset. Download it <A Href=\"https://raw.githubusercontent.com/alexeygrigorev/datasets/master/laptops.csv\">here</A>.\n",
    "\n",
    "You can do it with wget:\n",
    "\n",
    "wget https://raw.githubusercontent.com/alexeygrigorev/datasets/master/laptops.csv\n",
    "\n",
    "Or just open it with your browser and click \"Save as...\".\n",
    "\n",
    "Now read it with Pandas."
   ]
  },
  {
   "cell_type": "code",
   "execution_count": 3,
   "id": "46b082fd-48ea-4edd-9efc-4319a46cf62a",
   "metadata": {},
   "outputs": [
    {
     "data": {
      "text/html": [
       "<div>\n",
       "<style scoped>\n",
       "    .dataframe tbody tr th:only-of-type {\n",
       "        vertical-align: middle;\n",
       "    }\n",
       "\n",
       "    .dataframe tbody tr th {\n",
       "        vertical-align: top;\n",
       "    }\n",
       "\n",
       "    .dataframe thead th {\n",
       "        text-align: right;\n",
       "    }\n",
       "</style>\n",
       "<table border=\"1\" class=\"dataframe\">\n",
       "  <thead>\n",
       "    <tr style=\"text-align: right;\">\n",
       "      <th></th>\n",
       "      <th>Laptop</th>\n",
       "      <th>Status</th>\n",
       "      <th>Brand</th>\n",
       "      <th>Model</th>\n",
       "      <th>CPU</th>\n",
       "      <th>RAM</th>\n",
       "      <th>Storage</th>\n",
       "      <th>Storage type</th>\n",
       "      <th>GPU</th>\n",
       "      <th>Screen</th>\n",
       "      <th>Touch</th>\n",
       "      <th>Final Price</th>\n",
       "    </tr>\n",
       "  </thead>\n",
       "  <tbody>\n",
       "    <tr>\n",
       "      <th>0</th>\n",
       "      <td>ASUS ExpertBook B1 B1502CBA-EJ0436X Intel Core...</td>\n",
       "      <td>New</td>\n",
       "      <td>Asus</td>\n",
       "      <td>ExpertBook</td>\n",
       "      <td>Intel Core i5</td>\n",
       "      <td>8</td>\n",
       "      <td>512</td>\n",
       "      <td>SSD</td>\n",
       "      <td>NaN</td>\n",
       "      <td>15.6</td>\n",
       "      <td>No</td>\n",
       "      <td>1009.00</td>\n",
       "    </tr>\n",
       "    <tr>\n",
       "      <th>1</th>\n",
       "      <td>Alurin Go Start Intel Celeron N4020/8GB/256GB ...</td>\n",
       "      <td>New</td>\n",
       "      <td>Alurin</td>\n",
       "      <td>Go</td>\n",
       "      <td>Intel Celeron</td>\n",
       "      <td>8</td>\n",
       "      <td>256</td>\n",
       "      <td>SSD</td>\n",
       "      <td>NaN</td>\n",
       "      <td>15.6</td>\n",
       "      <td>No</td>\n",
       "      <td>299.00</td>\n",
       "    </tr>\n",
       "    <tr>\n",
       "      <th>2</th>\n",
       "      <td>ASUS ExpertBook B1 B1502CBA-EJ0424X Intel Core...</td>\n",
       "      <td>New</td>\n",
       "      <td>Asus</td>\n",
       "      <td>ExpertBook</td>\n",
       "      <td>Intel Core i3</td>\n",
       "      <td>8</td>\n",
       "      <td>256</td>\n",
       "      <td>SSD</td>\n",
       "      <td>NaN</td>\n",
       "      <td>15.6</td>\n",
       "      <td>No</td>\n",
       "      <td>789.00</td>\n",
       "    </tr>\n",
       "    <tr>\n",
       "      <th>3</th>\n",
       "      <td>MSI Katana GF66 12UC-082XES Intel Core i7-1270...</td>\n",
       "      <td>New</td>\n",
       "      <td>MSI</td>\n",
       "      <td>Katana</td>\n",
       "      <td>Intel Core i7</td>\n",
       "      <td>16</td>\n",
       "      <td>1000</td>\n",
       "      <td>SSD</td>\n",
       "      <td>RTX 3050</td>\n",
       "      <td>15.6</td>\n",
       "      <td>No</td>\n",
       "      <td>1199.00</td>\n",
       "    </tr>\n",
       "    <tr>\n",
       "      <th>4</th>\n",
       "      <td>HP 15S-FQ5085NS Intel Core i5-1235U/16GB/512GB...</td>\n",
       "      <td>New</td>\n",
       "      <td>HP</td>\n",
       "      <td>15S</td>\n",
       "      <td>Intel Core i5</td>\n",
       "      <td>16</td>\n",
       "      <td>512</td>\n",
       "      <td>SSD</td>\n",
       "      <td>NaN</td>\n",
       "      <td>15.6</td>\n",
       "      <td>No</td>\n",
       "      <td>669.01</td>\n",
       "    </tr>\n",
       "  </tbody>\n",
       "</table>\n",
       "</div>"
      ],
      "text/plain": [
       "                                              Laptop Status   Brand  \\\n",
       "0  ASUS ExpertBook B1 B1502CBA-EJ0436X Intel Core...    New    Asus   \n",
       "1  Alurin Go Start Intel Celeron N4020/8GB/256GB ...    New  Alurin   \n",
       "2  ASUS ExpertBook B1 B1502CBA-EJ0424X Intel Core...    New    Asus   \n",
       "3  MSI Katana GF66 12UC-082XES Intel Core i7-1270...    New     MSI   \n",
       "4  HP 15S-FQ5085NS Intel Core i5-1235U/16GB/512GB...    New      HP   \n",
       "\n",
       "        Model            CPU  RAM  Storage Storage type       GPU  Screen  \\\n",
       "0  ExpertBook  Intel Core i5    8      512          SSD       NaN    15.6   \n",
       "1          Go  Intel Celeron    8      256          SSD       NaN    15.6   \n",
       "2  ExpertBook  Intel Core i3    8      256          SSD       NaN    15.6   \n",
       "3      Katana  Intel Core i7   16     1000          SSD  RTX 3050    15.6   \n",
       "4         15S  Intel Core i5   16      512          SSD       NaN    15.6   \n",
       "\n",
       "  Touch  Final Price  \n",
       "0    No      1009.00  \n",
       "1    No       299.00  \n",
       "2    No       789.00  \n",
       "3    No      1199.00  \n",
       "4    No       669.01  "
      ]
     },
     "execution_count": 3,
     "metadata": {},
     "output_type": "execute_result"
    }
   ],
   "source": [
    "data = pd.read_csv(r\"C:\\Users\\user\\Machine_Learning_ZoomCamp\\Introduction to Machine Learning\\data\\laptops.csv\")\n",
    "data.head()"
   ]
  },
  {
   "cell_type": "markdown",
   "id": "3c2cfdde-9936-4043-9bde-7b7409ee10c2",
   "metadata": {},
   "source": [
    "### Q2. Record Counts\n",
    "+ Download data <A Href=\"https://raw.githubusercontent.com/alexeygrigorev/datasets/master/laptops.csv\">here.</A>\n",
    "\n",
    "How many records are in the dataset?\n",
    "+ 12\n",
    "+ 1000\n",
    "+ 2160\n",
    "+ 12160\n",
    "\n",
    "There are 2160 records."
   ]
  },
  {
   "cell_type": "code",
   "execution_count": 4,
   "id": "38f4b926-5237-4754-8d3b-7b7bb4ccabf1",
   "metadata": {},
   "outputs": [
    {
     "name": "stdout",
     "output_type": "stream",
     "text": [
      "The dataset has 2160 records\n"
     ]
    }
   ],
   "source": [
    "print(f\"The dataset has {data.shape[0]} records\")"
   ]
  },
  {
   "cell_type": "markdown",
   "id": "abd3bf62-9002-4b71-b59e-d725880918e3",
   "metadata": {},
   "source": [
    "### Q3. Laptop Brands\n",
    "How many laptop brands are present in the dataset?\n",
    "+ 12\n",
    "+ 27\n",
    "+ 28\n",
    "+ 2160\n",
    "\n",
    "There are 27 laptop brands."
   ]
  },
  {
   "cell_type": "code",
   "execution_count": 5,
   "id": "3410dfa6-80fe-403f-a912-bc1a74e4b4bb",
   "metadata": {},
   "outputs": [
    {
     "name": "stdout",
     "output_type": "stream",
     "text": [
      "There are 27 laptop brands.\n"
     ]
    }
   ],
   "source": [
    "laptop_brands = data['Brand'].nunique()\n",
    "print(f\"There are {laptop_brands} laptop brands.\")"
   ]
  },
  {
   "cell_type": "markdown",
   "id": "48ba98d5-7455-40dd-ae2c-5331557725dc",
   "metadata": {},
   "source": [
    "### Q4. Missing values\n",
    "How many columns in the dataset have missing values?\n",
    "\n",
    "+ 0\n",
    "+ 1\n",
    "+ 2\n",
    "+ 3"
   ]
  },
  {
   "cell_type": "code",
   "execution_count": 6,
   "id": "c8945e00-ddbf-4d72-9ee1-adce07c2fa5f",
   "metadata": {
    "scrolled": true
   },
   "outputs": [
    {
     "data": {
      "text/plain": [
       "Laptop             0\n",
       "Status             0\n",
       "Brand              0\n",
       "Model              0\n",
       "CPU                0\n",
       "RAM                0\n",
       "Storage            0\n",
       "Storage type      42\n",
       "GPU             1371\n",
       "Screen             4\n",
       "Touch              0\n",
       "Final Price        0\n",
       "dtype: int64"
      ]
     },
     "execution_count": 6,
     "metadata": {},
     "output_type": "execute_result"
    }
   ],
   "source": [
    "number_col_missing = data.isnull().sum()\n",
    "number_col_missing"
   ]
  },
  {
   "cell_type": "markdown",
   "id": "4453b7f4-45e6-49fe-a6bc-44e2d186da0f",
   "metadata": {},
   "source": [
    "**3** columns that is **Storage type**, **GPU**, and **Screen** have missing values."
   ]
  },
  {
   "cell_type": "markdown",
   "id": "db2ac7ed-4510-4447-9621-4958822c5b4a",
   "metadata": {},
   "source": [
    "### Q5. Maximum final price\n",
    "What's the maximum final price of Dell notebooks in the dataset?\n",
    "\n",
    "+ 869\n",
    "+ 3691\n",
    "+ 3849\n",
    "+ 3936"
   ]
  },
  {
   "cell_type": "code",
   "execution_count": 7,
   "id": "b09b931a-6975-4c24-8024-0c1741b57fd4",
   "metadata": {},
   "outputs": [
    {
     "name": "stdout",
     "output_type": "stream",
     "text": [
      "3936.0\n"
     ]
    }
   ],
   "source": [
    "dell_notebooks = data[data['Brand'] == 'Dell']\n",
    "maximum_price = dell_notebooks['Final Price'].max()\n",
    "print(maximum_price)"
   ]
  },
  {
   "cell_type": "markdown",
   "id": "8a893173-4d36-47ed-b45e-1284acf075ae",
   "metadata": {},
   "source": [
    "### Q6. Median value of Screen\n",
    "1. Find the median value of Screen column in the dataset.\n",
    "2. Next, calculate the most frequent value of the same Screen column.\n",
    "3. Use fillna method to fill the missing values in Screen column with the most frequent value from the previous step.\n",
    "4. Now, calculate the median value of Screen once again.\n",
    "   \n",
    "Has it changed?\n",
    "+ **No**"
   ]
  },
  {
   "cell_type": "code",
   "execution_count": 8,
   "id": "f9a4284d-7044-412c-bf61-2ce9d0069370",
   "metadata": {},
   "outputs": [
    {
     "data": {
      "text/html": [
       "<div>\n",
       "<style scoped>\n",
       "    .dataframe tbody tr th:only-of-type {\n",
       "        vertical-align: middle;\n",
       "    }\n",
       "\n",
       "    .dataframe tbody tr th {\n",
       "        vertical-align: top;\n",
       "    }\n",
       "\n",
       "    .dataframe thead th {\n",
       "        text-align: right;\n",
       "    }\n",
       "</style>\n",
       "<table border=\"1\" class=\"dataframe\">\n",
       "  <thead>\n",
       "    <tr style=\"text-align: right;\">\n",
       "      <th></th>\n",
       "      <th>Laptop</th>\n",
       "      <th>Status</th>\n",
       "      <th>Brand</th>\n",
       "      <th>Model</th>\n",
       "      <th>CPU</th>\n",
       "      <th>RAM</th>\n",
       "      <th>Storage</th>\n",
       "      <th>Storage type</th>\n",
       "      <th>GPU</th>\n",
       "      <th>Screen</th>\n",
       "      <th>Touch</th>\n",
       "      <th>Final Price</th>\n",
       "    </tr>\n",
       "  </thead>\n",
       "  <tbody>\n",
       "    <tr>\n",
       "      <th>0</th>\n",
       "      <td>ASUS ExpertBook B1 B1502CBA-EJ0436X Intel Core...</td>\n",
       "      <td>New</td>\n",
       "      <td>Asus</td>\n",
       "      <td>ExpertBook</td>\n",
       "      <td>Intel Core i5</td>\n",
       "      <td>8</td>\n",
       "      <td>512</td>\n",
       "      <td>SSD</td>\n",
       "      <td>NaN</td>\n",
       "      <td>15.6</td>\n",
       "      <td>No</td>\n",
       "      <td>1009.00</td>\n",
       "    </tr>\n",
       "    <tr>\n",
       "      <th>1</th>\n",
       "      <td>Alurin Go Start Intel Celeron N4020/8GB/256GB ...</td>\n",
       "      <td>New</td>\n",
       "      <td>Alurin</td>\n",
       "      <td>Go</td>\n",
       "      <td>Intel Celeron</td>\n",
       "      <td>8</td>\n",
       "      <td>256</td>\n",
       "      <td>SSD</td>\n",
       "      <td>NaN</td>\n",
       "      <td>15.6</td>\n",
       "      <td>No</td>\n",
       "      <td>299.00</td>\n",
       "    </tr>\n",
       "    <tr>\n",
       "      <th>2</th>\n",
       "      <td>ASUS ExpertBook B1 B1502CBA-EJ0424X Intel Core...</td>\n",
       "      <td>New</td>\n",
       "      <td>Asus</td>\n",
       "      <td>ExpertBook</td>\n",
       "      <td>Intel Core i3</td>\n",
       "      <td>8</td>\n",
       "      <td>256</td>\n",
       "      <td>SSD</td>\n",
       "      <td>NaN</td>\n",
       "      <td>15.6</td>\n",
       "      <td>No</td>\n",
       "      <td>789.00</td>\n",
       "    </tr>\n",
       "    <tr>\n",
       "      <th>3</th>\n",
       "      <td>MSI Katana GF66 12UC-082XES Intel Core i7-1270...</td>\n",
       "      <td>New</td>\n",
       "      <td>MSI</td>\n",
       "      <td>Katana</td>\n",
       "      <td>Intel Core i7</td>\n",
       "      <td>16</td>\n",
       "      <td>1000</td>\n",
       "      <td>SSD</td>\n",
       "      <td>RTX 3050</td>\n",
       "      <td>15.6</td>\n",
       "      <td>No</td>\n",
       "      <td>1199.00</td>\n",
       "    </tr>\n",
       "    <tr>\n",
       "      <th>4</th>\n",
       "      <td>HP 15S-FQ5085NS Intel Core i5-1235U/16GB/512GB...</td>\n",
       "      <td>New</td>\n",
       "      <td>HP</td>\n",
       "      <td>15S</td>\n",
       "      <td>Intel Core i5</td>\n",
       "      <td>16</td>\n",
       "      <td>512</td>\n",
       "      <td>SSD</td>\n",
       "      <td>NaN</td>\n",
       "      <td>15.6</td>\n",
       "      <td>No</td>\n",
       "      <td>669.01</td>\n",
       "    </tr>\n",
       "  </tbody>\n",
       "</table>\n",
       "</div>"
      ],
      "text/plain": [
       "                                              Laptop Status   Brand  \\\n",
       "0  ASUS ExpertBook B1 B1502CBA-EJ0436X Intel Core...    New    Asus   \n",
       "1  Alurin Go Start Intel Celeron N4020/8GB/256GB ...    New  Alurin   \n",
       "2  ASUS ExpertBook B1 B1502CBA-EJ0424X Intel Core...    New    Asus   \n",
       "3  MSI Katana GF66 12UC-082XES Intel Core i7-1270...    New     MSI   \n",
       "4  HP 15S-FQ5085NS Intel Core i5-1235U/16GB/512GB...    New      HP   \n",
       "\n",
       "        Model            CPU  RAM  Storage Storage type       GPU  Screen  \\\n",
       "0  ExpertBook  Intel Core i5    8      512          SSD       NaN    15.6   \n",
       "1          Go  Intel Celeron    8      256          SSD       NaN    15.6   \n",
       "2  ExpertBook  Intel Core i3    8      256          SSD       NaN    15.6   \n",
       "3      Katana  Intel Core i7   16     1000          SSD  RTX 3050    15.6   \n",
       "4         15S  Intel Core i5   16      512          SSD       NaN    15.6   \n",
       "\n",
       "  Touch  Final Price  \n",
       "0    No      1009.00  \n",
       "1    No       299.00  \n",
       "2    No       789.00  \n",
       "3    No      1199.00  \n",
       "4    No       669.01  "
      ]
     },
     "execution_count": 8,
     "metadata": {},
     "output_type": "execute_result"
    }
   ],
   "source": [
    "data.head()"
   ]
  },
  {
   "cell_type": "code",
   "execution_count": 9,
   "id": "b82ffbb0-9415-4773-9104-de8b5ee329e8",
   "metadata": {},
   "outputs": [
    {
     "name": "stdout",
     "output_type": "stream",
     "text": [
      "The median value of Screen size is 15.6.\n",
      "The most frequent value of Screen size is 0    15.6\n",
      "Name: Screen, dtype: float64.\n",
      "After filling missing values with zero in screen column, the median screen size is now 15.6\n",
      "\n",
      "The median value has not changed\n"
     ]
    }
   ],
   "source": [
    "# Median value of Screen column\n",
    "data = data.copy()\n",
    "med_value_screen = data['Screen'].median()\n",
    "most_frequent_value_screen = data['Screen'].mode()\n",
    "\n",
    "print(f\"The median value of Screen size is {med_value_screen}.\")\n",
    "print(f\"The most frequent value of Screen size is {most_frequent_value_screen}.\")\n",
    "data.fillna({\"Screen\": 0}, inplace=True)\n",
    "data.isnull().sum()\n",
    "print(f\"After filling missing values with zero in screen column, the median screen size is now {data['Screen'].median()}\\n\")\n",
    "print(f\"The median value has not changed\")"
   ]
  },
  {
   "cell_type": "markdown",
   "id": "dec8d3a0-6363-4703-9e2c-9ce4ac5bd668",
   "metadata": {},
   "source": [
    "### Q7. Sum of weights\n",
    "1. Select all the \"Innjoo\" laptops from the dataset.\n",
    "2. Select only columns RAM, Storage, Screen.\n",
    "3. Get the underlying NumPy array. Let's call it X.\n",
    "4. Compute matrix-matrix multiplication between the transpose of X and X. To get the transpose, use X.T. Let's call the result XTX.\n",
    "5. Compute the inverse of XTX.\n",
    "6. Create an array y with values [1100, 1300, 800, 900, 1000, 1100].\n",
    "7. Multiply the inverse of XTX with the transpose of X, and then multiply the result by y. Call the result w.\n",
    "8. What's the sum of all the elements of the result?"
   ]
  },
  {
   "cell_type": "code",
   "execution_count": 10,
   "id": "291b025a-0c4e-4233-a161-adc95bdafc74",
   "metadata": {},
   "outputs": [
    {
     "data": {
      "text/html": [
       "<div>\n",
       "<style scoped>\n",
       "    .dataframe tbody tr th:only-of-type {\n",
       "        vertical-align: middle;\n",
       "    }\n",
       "\n",
       "    .dataframe tbody tr th {\n",
       "        vertical-align: top;\n",
       "    }\n",
       "\n",
       "    .dataframe thead th {\n",
       "        text-align: right;\n",
       "    }\n",
       "</style>\n",
       "<table border=\"1\" class=\"dataframe\">\n",
       "  <thead>\n",
       "    <tr style=\"text-align: right;\">\n",
       "      <th></th>\n",
       "      <th>Laptop</th>\n",
       "      <th>Status</th>\n",
       "      <th>Brand</th>\n",
       "      <th>Model</th>\n",
       "      <th>CPU</th>\n",
       "      <th>RAM</th>\n",
       "      <th>Storage</th>\n",
       "      <th>Storage type</th>\n",
       "      <th>GPU</th>\n",
       "      <th>Screen</th>\n",
       "      <th>Touch</th>\n",
       "      <th>Final Price</th>\n",
       "    </tr>\n",
       "  </thead>\n",
       "  <tbody>\n",
       "    <tr>\n",
       "      <th>1478</th>\n",
       "      <td>InnJoo Voom Excellence Intel Celeron N4020/8GB...</td>\n",
       "      <td>New</td>\n",
       "      <td>Innjoo</td>\n",
       "      <td>Voom</td>\n",
       "      <td>Intel Celeron</td>\n",
       "      <td>8</td>\n",
       "      <td>256</td>\n",
       "      <td>SSD</td>\n",
       "      <td>NaN</td>\n",
       "      <td>15.6</td>\n",
       "      <td>No</td>\n",
       "      <td>311.37</td>\n",
       "    </tr>\n",
       "    <tr>\n",
       "      <th>1479</th>\n",
       "      <td>InnJoo Voom Excellence Pro Intel Celeron N4020...</td>\n",
       "      <td>New</td>\n",
       "      <td>Innjoo</td>\n",
       "      <td>Voom</td>\n",
       "      <td>Intel Celeron</td>\n",
       "      <td>8</td>\n",
       "      <td>512</td>\n",
       "      <td>SSD</td>\n",
       "      <td>NaN</td>\n",
       "      <td>15.6</td>\n",
       "      <td>No</td>\n",
       "      <td>392.55</td>\n",
       "    </tr>\n",
       "    <tr>\n",
       "      <th>1480</th>\n",
       "      <td>Innjoo Voom Intel Celeron N3350/4GB/64GB eMMC/...</td>\n",
       "      <td>New</td>\n",
       "      <td>Innjoo</td>\n",
       "      <td>Voom</td>\n",
       "      <td>Intel Celeron</td>\n",
       "      <td>4</td>\n",
       "      <td>64</td>\n",
       "      <td>eMMC</td>\n",
       "      <td>NaN</td>\n",
       "      <td>14.1</td>\n",
       "      <td>No</td>\n",
       "      <td>251.40</td>\n",
       "    </tr>\n",
       "    <tr>\n",
       "      <th>1481</th>\n",
       "      <td>Innjoo Voom Laptop Max Intel Celeron N3350/6GB...</td>\n",
       "      <td>New</td>\n",
       "      <td>Innjoo</td>\n",
       "      <td>Voom</td>\n",
       "      <td>Intel Celeron</td>\n",
       "      <td>6</td>\n",
       "      <td>64</td>\n",
       "      <td>eMMC</td>\n",
       "      <td>NaN</td>\n",
       "      <td>14.1</td>\n",
       "      <td>No</td>\n",
       "      <td>383.61</td>\n",
       "    </tr>\n",
       "    <tr>\n",
       "      <th>1482</th>\n",
       "      <td>Innjoo Voom Laptop Pro Intel Celeron N3350/6GB...</td>\n",
       "      <td>New</td>\n",
       "      <td>Innjoo</td>\n",
       "      <td>Voom</td>\n",
       "      <td>Intel Celeron</td>\n",
       "      <td>6</td>\n",
       "      <td>128</td>\n",
       "      <td>SSD</td>\n",
       "      <td>NaN</td>\n",
       "      <td>14.1</td>\n",
       "      <td>No</td>\n",
       "      <td>317.02</td>\n",
       "    </tr>\n",
       "    <tr>\n",
       "      <th>1483</th>\n",
       "      <td>Innjoo Voom Pro Intel Celeron N3350/6GB/128GB ...</td>\n",
       "      <td>New</td>\n",
       "      <td>Innjoo</td>\n",
       "      <td>Voom</td>\n",
       "      <td>Intel Celeron</td>\n",
       "      <td>6</td>\n",
       "      <td>128</td>\n",
       "      <td>eMMC</td>\n",
       "      <td>NaN</td>\n",
       "      <td>14.1</td>\n",
       "      <td>No</td>\n",
       "      <td>431.38</td>\n",
       "    </tr>\n",
       "  </tbody>\n",
       "</table>\n",
       "</div>"
      ],
      "text/plain": [
       "                                                 Laptop Status   Brand Model  \\\n",
       "1478  InnJoo Voom Excellence Intel Celeron N4020/8GB...    New  Innjoo  Voom   \n",
       "1479  InnJoo Voom Excellence Pro Intel Celeron N4020...    New  Innjoo  Voom   \n",
       "1480  Innjoo Voom Intel Celeron N3350/4GB/64GB eMMC/...    New  Innjoo  Voom   \n",
       "1481  Innjoo Voom Laptop Max Intel Celeron N3350/6GB...    New  Innjoo  Voom   \n",
       "1482  Innjoo Voom Laptop Pro Intel Celeron N3350/6GB...    New  Innjoo  Voom   \n",
       "1483  Innjoo Voom Pro Intel Celeron N3350/6GB/128GB ...    New  Innjoo  Voom   \n",
       "\n",
       "                CPU  RAM  Storage Storage type  GPU  Screen Touch  Final Price  \n",
       "1478  Intel Celeron    8      256          SSD  NaN    15.6    No       311.37  \n",
       "1479  Intel Celeron    8      512          SSD  NaN    15.6    No       392.55  \n",
       "1480  Intel Celeron    4       64         eMMC  NaN    14.1    No       251.40  \n",
       "1481  Intel Celeron    6       64         eMMC  NaN    14.1    No       383.61  \n",
       "1482  Intel Celeron    6      128          SSD  NaN    14.1    No       317.02  \n",
       "1483  Intel Celeron    6      128         eMMC  NaN    14.1    No       431.38  "
      ]
     },
     "execution_count": 10,
     "metadata": {},
     "output_type": "execute_result"
    }
   ],
   "source": [
    "# Selecting all the \"Innjoo\" laptops from the dataset\n",
    "innjoo_laptops = data[data['Brand'] == 'Innjoo']\n",
    "innjoo_laptops"
   ]
  },
  {
   "cell_type": "code",
   "execution_count": 11,
   "id": "0b69ee21-3779-4ad3-bec5-4cefd5fc84e0",
   "metadata": {},
   "outputs": [
    {
     "data": {
      "text/html": [
       "<div>\n",
       "<style scoped>\n",
       "    .dataframe tbody tr th:only-of-type {\n",
       "        vertical-align: middle;\n",
       "    }\n",
       "\n",
       "    .dataframe tbody tr th {\n",
       "        vertical-align: top;\n",
       "    }\n",
       "\n",
       "    .dataframe thead th {\n",
       "        text-align: right;\n",
       "    }\n",
       "</style>\n",
       "<table border=\"1\" class=\"dataframe\">\n",
       "  <thead>\n",
       "    <tr style=\"text-align: right;\">\n",
       "      <th></th>\n",
       "      <th>RAM</th>\n",
       "      <th>Storage</th>\n",
       "      <th>Screen</th>\n",
       "    </tr>\n",
       "  </thead>\n",
       "  <tbody>\n",
       "    <tr>\n",
       "      <th>1478</th>\n",
       "      <td>8</td>\n",
       "      <td>256</td>\n",
       "      <td>15.6</td>\n",
       "    </tr>\n",
       "    <tr>\n",
       "      <th>1479</th>\n",
       "      <td>8</td>\n",
       "      <td>512</td>\n",
       "      <td>15.6</td>\n",
       "    </tr>\n",
       "    <tr>\n",
       "      <th>1480</th>\n",
       "      <td>4</td>\n",
       "      <td>64</td>\n",
       "      <td>14.1</td>\n",
       "    </tr>\n",
       "    <tr>\n",
       "      <th>1481</th>\n",
       "      <td>6</td>\n",
       "      <td>64</td>\n",
       "      <td>14.1</td>\n",
       "    </tr>\n",
       "    <tr>\n",
       "      <th>1482</th>\n",
       "      <td>6</td>\n",
       "      <td>128</td>\n",
       "      <td>14.1</td>\n",
       "    </tr>\n",
       "    <tr>\n",
       "      <th>1483</th>\n",
       "      <td>6</td>\n",
       "      <td>128</td>\n",
       "      <td>14.1</td>\n",
       "    </tr>\n",
       "  </tbody>\n",
       "</table>\n",
       "</div>"
      ],
      "text/plain": [
       "      RAM  Storage  Screen\n",
       "1478    8      256    15.6\n",
       "1479    8      512    15.6\n",
       "1480    4       64    14.1\n",
       "1481    6       64    14.1\n",
       "1482    6      128    14.1\n",
       "1483    6      128    14.1"
      ]
     },
     "execution_count": 11,
     "metadata": {},
     "output_type": "execute_result"
    }
   ],
   "source": [
    "# Selecting only columns RAM, Storage, Screen.\n",
    "innjoo_laptops = innjoo_laptops[['RAM', 'Storage', 'Screen']]\n",
    "innjoo_laptops"
   ]
  },
  {
   "cell_type": "code",
   "execution_count": 12,
   "id": "0a347420-eab8-4244-9cf3-d74207d82d8e",
   "metadata": {},
   "outputs": [
    {
     "data": {
      "text/plain": [
       "array([[ 2.78025381e-01, -1.51791334e-03, -1.00809855e-01],\n",
       "       [-1.51791334e-03,  1.58286725e-05,  4.48052175e-04],\n",
       "       [-1.00809855e-01,  4.48052175e-04,  3.87214888e-02]])"
      ]
     },
     "execution_count": 12,
     "metadata": {},
     "output_type": "execute_result"
    }
   ],
   "source": [
    "# Getting the underlying NumPy array. Let's call it X.\n",
    "X = innjoo_laptops.values\n",
    "# Computing matrix-matrix multiplication\n",
    "XTX = X.T.dot(X)\n",
    "XTX_inv = np.linalg.inv(XTX)\n",
    "XTX_inv"
   ]
  },
  {
   "cell_type": "code",
   "execution_count": 13,
   "id": "9aca90ee-f95a-4773-b4c9-742b798b09e2",
   "metadata": {},
   "outputs": [],
   "source": [
    "# Creating an array y\n",
    "y = np.array([1100, 1300, 800, 900, 1000, 1100])"
   ]
  },
  {
   "cell_type": "code",
   "execution_count": 14,
   "id": "91ce5e93-ec67-4dba-ad71-44966dd70040",
   "metadata": {},
   "outputs": [
    {
     "data": {
      "text/plain": [
       "91.29988062995815"
      ]
     },
     "execution_count": 14,
     "metadata": {},
     "output_type": "execute_result"
    }
   ],
   "source": [
    "# Multiply the inverse of XTX with the transpose of X, and then multiply the result by y. Call the result w\n",
    "# What's the sum of all the elements of the result?\n",
    "w = (XTX_inv @ X.T) @ y\n",
    "total = w.sum()\n",
    "total"
   ]
  },
  {
   "cell_type": "markdown",
   "id": "8a5a6082-7536-4862-bb72-533852d2137a",
   "metadata": {},
   "source": [
    "**Note**: You just implemented linear regression.\n",
    "$$ w = \\left( X^T X \\right)^{-1} X^T y $$\n",
    "\n",
    "We'll talk about it in the next lesson."
   ]
  }
 ],
 "metadata": {
  "kernelspec": {
   "display_name": "Python 3 (ipykernel)",
   "language": "python",
   "name": "python3"
  },
  "language_info": {
   "codemirror_mode": {
    "name": "ipython",
    "version": 3
   },
   "file_extension": ".py",
   "mimetype": "text/x-python",
   "name": "python",
   "nbconvert_exporter": "python",
   "pygments_lexer": "ipython3",
   "version": "3.11.9"
  }
 },
 "nbformat": 4,
 "nbformat_minor": 5
}
